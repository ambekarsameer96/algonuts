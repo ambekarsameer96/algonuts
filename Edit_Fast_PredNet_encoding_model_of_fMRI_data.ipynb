{
  "nbformat": 4,
  "nbformat_minor": 0,
  "metadata": {
    "colab": {
      "name": "Edit_Fast PredNet encoding model of fMRI data.ipynb",
      "provenance": [],
      "collapsed_sections": [
        "EdHVQrqyDB50",
        "FgVfBlvZDEja",
        "d6zmir64CXlo",
        "0fNcF4-4Cd-R",
        "2rzGLI22CkfB",
        "HAAFAxHAxfRA",
        "scnuhATSDJX9",
        "jJeWCZ3ODQD7"
      ],
      "machine_shape": "hm"
    },
    "kernelspec": {
      "name": "python3",
      "display_name": "Python 3"
    },
    "accelerator": "GPU"
  },
  "cells": [
    {
      "cell_type": "markdown",
      "metadata": {
        "id": "qbLBFKq3YZpB"
      },
      "source": [
        "# Stay connected \n",
        "```\n",
        "var startClickConnect = function startClickConnect(){\n",
        "    var clickConnect = function clickConnect(){\n",
        "        console.log(\"Connnect Clicked - Start\");\n",
        "        document.querySelector(\"#top-toolbar > colab-connect-button\").shadowRoot.querySelector(\"#connect\").click();\n",
        "        console.log(\"Connnect Clicked - End\"); \n",
        "    };\n",
        "\n",
        "    var intervalId = setInterval(clickConnect, 60000);\n",
        "\n",
        "    var stopClickConnectHandler = function stopClickConnect() {\n",
        "        console.log(\"Connnect Clicked Stopped - Start\");\n",
        "        clearInterval(intervalId);\n",
        "        console.log(\"Connnect Clicked Stopped - End\");\n",
        "    };\n",
        "\n",
        "    return stopClickConnectHandler;\n",
        "};\n",
        "\n",
        "var stopClickConnect = startClickConnect();\n",
        "```"
      ]
    },
    {
      "cell_type": "code",
      "metadata": {
        "id": "KkGSVqt2t_sk"
      },
      "source": [
        ""
      ],
      "execution_count": null,
      "outputs": []
    },
    {
      "cell_type": "markdown",
      "metadata": {
        "id": "WkWPRAA9uA05"
      },
      "source": [
        "Start the execution --> Prednet how does it help us?\n",
        "Videos already added \n",
        "\n",
        "\n",
        "Pending:\n",
        "- Debugging the error\n",
        "- "
      ]
    },
    {
      "cell_type": "markdown",
      "metadata": {
        "id": "EdHVQrqyDB50"
      },
      "source": [
        "# Memory Information"
      ]
    },
    {
      "cell_type": "code",
      "metadata": {
        "id": "E58HaeA6CsM9",
        "colab": {
          "base_uri": "https://localhost:8080/"
        },
        "outputId": "db8d5cb5-35d0-49a1-dbab-7e93bbd3bf69"
      },
      "source": [
        "import psutil\n",
        "def get_size(bytes, suffix=\"B\"):\n",
        "    factor = 1024\n",
        "    for unit in [\"\", \"K\", \"M\", \"G\", \"T\", \"P\"]:\n",
        "        if bytes < factor:\n",
        "            return f\"{bytes:.2f}{unit}{suffix}\"\n",
        "        bytes /= factor\n",
        "print(\"=\"*40, \"Memory Information\", \"=\"*40)\n",
        "svmem = psutil.virtual_memory()\n",
        "print(f\"Total: {get_size(svmem.total)}\") ; print(f\"Available: {get_size(svmem.available)}\")\n",
        "print(f\"Used: {get_size(svmem.used)}\") ; print(f\"Percentage: {svmem.percent}%\")"
      ],
      "execution_count": 1,
      "outputs": [
        {
          "output_type": "stream",
          "text": [
            "======================================== Memory Information ========================================\n",
            "Total: 12.69GB\n",
            "Available: 11.87GB\n",
            "Used: 580.29MB\n",
            "Percentage: 6.4%\n"
          ],
          "name": "stdout"
        }
      ]
    },
    {
      "cell_type": "markdown",
      "metadata": {
        "id": "FgVfBlvZDEja"
      },
      "source": [
        "# GPU Information"
      ]
    },
    {
      "cell_type": "code",
      "metadata": {
        "id": "rxlkxvkrCyin",
        "colab": {
          "base_uri": "https://localhost:8080/"
        },
        "outputId": "1b81f004-9db0-4499-f9f6-a9cc9c4752a3"
      },
      "source": [
        "! nvidia-smi"
      ],
      "execution_count": 2,
      "outputs": [
        {
          "output_type": "stream",
          "text": [
            "Fri Aug 13 14:34:39 2021       \n",
            "+-----------------------------------------------------------------------------+\n",
            "| NVIDIA-SMI 470.42.01    Driver Version: 460.32.03    CUDA Version: 11.2     |\n",
            "|-------------------------------+----------------------+----------------------+\n",
            "| GPU  Name        Persistence-M| Bus-Id        Disp.A | Volatile Uncorr. ECC |\n",
            "| Fan  Temp  Perf  Pwr:Usage/Cap|         Memory-Usage | GPU-Util  Compute M. |\n",
            "|                               |                      |               MIG M. |\n",
            "|===============================+======================+======================|\n",
            "|   0  Tesla K80           Off  | 00000000:00:04.0 Off |                    0 |\n",
            "| N/A   45C    P8    28W / 149W |      0MiB / 11441MiB |      0%      Default |\n",
            "|                               |                      |                  N/A |\n",
            "+-------------------------------+----------------------+----------------------+\n",
            "                                                                               \n",
            "+-----------------------------------------------------------------------------+\n",
            "| Processes:                                                                  |\n",
            "|  GPU   GI   CI        PID   Type   Process name                  GPU Memory |\n",
            "|        ID   ID                                                   Usage      |\n",
            "|=============================================================================|\n",
            "|  No running processes found                                                 |\n",
            "+-----------------------------------------------------------------------------+\n"
          ],
          "name": "stdout"
        }
      ]
    },
    {
      "cell_type": "markdown",
      "metadata": {
        "id": "d6zmir64CXlo"
      },
      "source": [
        "# **Setup**"
      ]
    },
    {
      "cell_type": "code",
      "metadata": {
        "id": "jyDODoaWC6KI"
      },
      "source": [
        "# install libraries not in Colab\n",
        "%%capture\n",
        "!pip install decord\n",
        "!pip install hickle"
      ],
      "execution_count": 3,
      "outputs": []
    },
    {
      "cell_type": "code",
      "metadata": {
        "id": "uEYDrPiVwDQJ",
        "colab": {
          "base_uri": "https://localhost:8080/"
        },
        "outputId": "a60ebfd8-a373-4117-846c-0a2946fd05e0"
      },
      "source": [
        "!pip install h5py==2.10.0"
      ],
      "execution_count": 4,
      "outputs": [
        {
          "output_type": "stream",
          "text": [
            "Requirement already satisfied: h5py==2.10.0 in /usr/local/lib/python3.7/dist-packages (2.10.0)\n",
            "Requirement already satisfied: numpy>=1.7 in /usr/local/lib/python3.7/dist-packages (from h5py==2.10.0) (1.19.5)\n",
            "Requirement already satisfied: six in /usr/local/lib/python3.7/dist-packages (from h5py==2.10.0) (1.15.0)\n"
          ],
          "name": "stdout"
        }
      ]
    },
    {
      "cell_type": "code",
      "metadata": {
        "id": "IV8HOpt1wFIU",
        "colab": {
          "base_uri": "https://localhost:8080/"
        },
        "outputId": "9898729e-8257-4cf4-a8bc-2794b424e4a9"
      },
      "source": [
        "%tensorflow_version 1.x\n",
        "\n",
        "import tensorflow as tf\n",
        "import keras\n",
        "\n",
        "print(tf.__version__)\n",
        "print(keras.__version__)"
      ],
      "execution_count": 5,
      "outputs": [
        {
          "output_type": "stream",
          "text": [
            "TensorFlow 1.x selected.\n",
            "1.15.2\n",
            "2.3.1\n"
          ],
          "name": "stdout"
        },
        {
          "output_type": "stream",
          "text": [
            "Using TensorFlow backend.\n"
          ],
          "name": "stderr"
        }
      ]
    },
    {
      "cell_type": "code",
      "metadata": {
        "id": "oo50k7S1wGtF"
      },
      "source": [
        "# standard sci libraries\n",
        "import numpy as np\n",
        "import matplotlib.pyplot as plt\n",
        "import matplotlib.gridspec as gridspec\n",
        "\n",
        "\n",
        "# machine learning libraries\n",
        "from keras import backend as K\n",
        "from keras.legacy.interfaces import generate_legacy_interface, recurrent_args_preprocessor\n",
        "from keras.models import Model, model_from_json\n",
        "from keras import activations\n",
        "from keras.layers import Recurrent\n",
        "from keras.layers import Conv2D, UpSampling2D, MaxPooling2D, Input\n",
        "from keras.engine import InputSpec\n",
        "import theano\n",
        "from torchvision import transforms as trn\n",
        "from sklearn.decomposition import PCA\n",
        "from sklearn.preprocessing import StandardScaler\n",
        "from sklearn.linear_model import LinearRegression\n",
        "from sklearn.multioutput import MultiOutputRegressor\n",
        "\n",
        "# image & video libraries\n",
        "from decord import VideoReader  \n",
        "from PIL import Image   \n",
        "\n",
        "# file libraries\n",
        "import glob\n",
        "import os\n",
        "import pickle\n",
        "import hickle\n",
        "import h5py\n",
        "import tqdm"
      ],
      "execution_count": 6,
      "outputs": []
    },
    {
      "cell_type": "code",
      "metadata": {
        "id": "1smtTLMmCbwG"
      },
      "source": [
        "# random number generators for reproducibility\n",
        "seed = 24\n",
        "\n",
        "tf.random.set_random_seed(seed)\n",
        "np.random.seed(seed)"
      ],
      "execution_count": 7,
      "outputs": []
    },
    {
      "cell_type": "markdown",
      "metadata": {
        "id": "0fNcF4-4Cd-R"
      },
      "source": [
        "# **Data loading**"
      ]
    },
    {
      "cell_type": "code",
      "metadata": {
        "id": "htBGNx62Cdph",
        "colab": {
          "base_uri": "https://localhost:8080/"
        },
        "outputId": "21775da3-b530-4017-dc3a-3e7d598fd6ff"
      },
      "source": [
        "# download dataset from dropbox\n",
        "dropbox_link = 'https://www.dropbox.com/s/agxyxntrbwko7t1/participants_data.zip?dl=0'\n",
        "os.environ['download_link'] = dropbox_link  \n",
        "!echo $download_link \n",
        "!wget -O participants_data.zip -c $download_link\n",
        "!wget -c https://raw.githubusercontent.com/Neural-Dynamics-of-Visual-Cognition-FUB/Algonauts2021_devkit/main/class_names_ImageNet.txt"
      ],
      "execution_count": 8,
      "outputs": [
        {
          "output_type": "stream",
          "text": [
            "https://www.dropbox.com/s/agxyxntrbwko7t1/participants_data.zip?dl=0\n",
            "--2021-08-13 14:35:20--  https://www.dropbox.com/s/agxyxntrbwko7t1/participants_data.zip?dl=0\n",
            "Resolving www.dropbox.com (www.dropbox.com)... 162.125.81.18, 2620:100:6031:18::a27d:5112\n",
            "Connecting to www.dropbox.com (www.dropbox.com)|162.125.81.18|:443... connected.\n",
            "HTTP request sent, awaiting response... 301 Moved Permanently\n",
            "Location: /s/raw/agxyxntrbwko7t1/participants_data.zip [following]\n",
            "--2021-08-13 14:35:21--  https://www.dropbox.com/s/raw/agxyxntrbwko7t1/participants_data.zip\n",
            "Reusing existing connection to www.dropbox.com:443.\n",
            "HTTP request sent, awaiting response... 302 Found\n",
            "Location: https://uce3a4c7a44dac16491c07785f45.dl.dropboxusercontent.com/cd/0/inline/BULBjugWmwIxp0yiFgpMLllk-xUPabS-64LjejmVgLZhxHresjShMKuYbh1vpwMNtshKqQfVTB5MVt5cEqVHizOIFqmU-sntiNX00boZL1rFR7SUYPlJQzoy6lzwnaJoDIOakGAbOuIJPOg-TburFfUW/file# [following]\n",
            "--2021-08-13 14:35:21--  https://uce3a4c7a44dac16491c07785f45.dl.dropboxusercontent.com/cd/0/inline/BULBjugWmwIxp0yiFgpMLllk-xUPabS-64LjejmVgLZhxHresjShMKuYbh1vpwMNtshKqQfVTB5MVt5cEqVHizOIFqmU-sntiNX00boZL1rFR7SUYPlJQzoy6lzwnaJoDIOakGAbOuIJPOg-TburFfUW/file\n",
            "Resolving uce3a4c7a44dac16491c07785f45.dl.dropboxusercontent.com (uce3a4c7a44dac16491c07785f45.dl.dropboxusercontent.com)... 162.125.81.15, 2620:100:6031:15::a27d:510f\n",
            "Connecting to uce3a4c7a44dac16491c07785f45.dl.dropboxusercontent.com (uce3a4c7a44dac16491c07785f45.dl.dropboxusercontent.com)|162.125.81.15|:443... connected.\n",
            "HTTP request sent, awaiting response... 302 Found\n",
            "Location: /cd/0/inline2/BUJLjQ5mBhx9srn8NQcAKdUjShv5j3VQZds-8NLuuDxxFyl1-SxzRc8W4hYAf7d2wCEg4ytQ_UJPgIJ2N8YETzTW_sC8Bp0-uFmva-GTupZCmUGieWRlmSSL99icZtVwLUS69Tdh5lAL6p4kX2ARxGJNtySLrsm7ZJZk9WrHpbT5SJxxxVDuFt2CZ10ye4lbgLtogarUb37eD9XJYcHchRHxsZTDIfzk9IXRSjhhpA1elzUztWgfIi-PeNjBqEo5XrbfuH2GFtCHCDF6BJibgG0KA5d1S4ONjpy0g-DdJtK3dtqFsEoYH35xfvuhswoAl7fSb-Gt7cg5am8xSoTAe_ptvXHasB_fM667kDzIB5Omy_gT7vw05357Ck5aQUMPUk4/file [following]\n",
            "--2021-08-13 14:35:22--  https://uce3a4c7a44dac16491c07785f45.dl.dropboxusercontent.com/cd/0/inline2/BUJLjQ5mBhx9srn8NQcAKdUjShv5j3VQZds-8NLuuDxxFyl1-SxzRc8W4hYAf7d2wCEg4ytQ_UJPgIJ2N8YETzTW_sC8Bp0-uFmva-GTupZCmUGieWRlmSSL99icZtVwLUS69Tdh5lAL6p4kX2ARxGJNtySLrsm7ZJZk9WrHpbT5SJxxxVDuFt2CZ10ye4lbgLtogarUb37eD9XJYcHchRHxsZTDIfzk9IXRSjhhpA1elzUztWgfIi-PeNjBqEo5XrbfuH2GFtCHCDF6BJibgG0KA5d1S4ONjpy0g-DdJtK3dtqFsEoYH35xfvuhswoAl7fSb-Gt7cg5am8xSoTAe_ptvXHasB_fM667kDzIB5Omy_gT7vw05357Ck5aQUMPUk4/file\n",
            "Reusing existing connection to uce3a4c7a44dac16491c07785f45.dl.dropboxusercontent.com:443.\n",
            "HTTP request sent, awaiting response... 200 OK\n",
            "\n",
            "    The file is already fully retrieved; nothing to do.\n",
            "\n",
            "--2021-08-13 14:35:22--  https://raw.githubusercontent.com/Neural-Dynamics-of-Visual-Cognition-FUB/Algonauts2021_devkit/main/class_names_ImageNet.txt\n",
            "Resolving raw.githubusercontent.com (raw.githubusercontent.com)... 185.199.109.133, 185.199.108.133, 185.199.111.133, ...\n",
            "Connecting to raw.githubusercontent.com (raw.githubusercontent.com)|185.199.109.133|:443... connected.\n",
            "HTTP request sent, awaiting response... 416 Range Not Satisfiable\n",
            "\n",
            "    The file is already fully retrieved; nothing to do.\n",
            "\n"
          ],
          "name": "stdout"
        }
      ]
    },
    {
      "cell_type": "code",
      "metadata": {
        "id": "Bc-xzICNCh8w"
      },
      "source": [
        "# unzip data file \n",
        "%%capture\n",
        "!unzip -o participants_data.zip"
      ],
      "execution_count": 9,
      "outputs": []
    },
    {
      "cell_type": "code",
      "metadata": {
        "id": "kuCTlFUHxKC9",
        "colab": {
          "base_uri": "https://localhost:8080/"
        },
        "outputId": "bf6b7bd1-0213-4f41-88ef-3ed768a30b0e"
      },
      "source": [
        "# download pretrained model\n",
        "savedir=\"model_data_keras2\"\n",
        "!mkdir -p -- \"$savedir\"\n",
        "!wget https://www.dropbox.com/s/iutxm0anhxqca0z/model_data_keras2.zip?dl=0 -O $savedir/model_data_keras2.zip\n",
        "!unzip $savedir/model_data_keras2.zip -d $savedir\n",
        "!rm $savedir/model_data_keras2.zip\n",
        "!mv $savedir/model_data_keras2/* $savedir\n",
        "!rm -r $savedir/model_data_keras2"
      ],
      "execution_count": 10,
      "outputs": [
        {
          "output_type": "stream",
          "text": [
            "--2021-08-13 14:37:33--  https://www.dropbox.com/s/iutxm0anhxqca0z/model_data_keras2.zip?dl=0\n",
            "Resolving www.dropbox.com (www.dropbox.com)... 162.125.81.18, 2620:100:6031:18::a27d:5112\n",
            "Connecting to www.dropbox.com (www.dropbox.com)|162.125.81.18|:443... connected.\n",
            "HTTP request sent, awaiting response... 301 Moved Permanently\n",
            "Location: /s/raw/iutxm0anhxqca0z/model_data_keras2.zip [following]\n",
            "--2021-08-13 14:37:33--  https://www.dropbox.com/s/raw/iutxm0anhxqca0z/model_data_keras2.zip\n",
            "Reusing existing connection to www.dropbox.com:443.\n",
            "HTTP request sent, awaiting response... 302 Found\n",
            "Location: https://uc0df64945142a0e5fa3ac4bbc31.dl.dropboxusercontent.com/cd/0/inline/BUIwnQAVJ5QWdKFx_CIky-f-UsE2clRGpLMLSQvMiZ9FS7i4dHo9mCYKxkkJTD6QLGcnoV6pl7yulZN3EVdNN6DrBNL-evUU3_8yWJsQ2BZIy7kmRwECjpHLAec7GirbVjFdjAqCdJuRoMUSKb0lO-hU/file# [following]\n",
            "--2021-08-13 14:37:34--  https://uc0df64945142a0e5fa3ac4bbc31.dl.dropboxusercontent.com/cd/0/inline/BUIwnQAVJ5QWdKFx_CIky-f-UsE2clRGpLMLSQvMiZ9FS7i4dHo9mCYKxkkJTD6QLGcnoV6pl7yulZN3EVdNN6DrBNL-evUU3_8yWJsQ2BZIy7kmRwECjpHLAec7GirbVjFdjAqCdJuRoMUSKb0lO-hU/file\n",
            "Resolving uc0df64945142a0e5fa3ac4bbc31.dl.dropboxusercontent.com (uc0df64945142a0e5fa3ac4bbc31.dl.dropboxusercontent.com)... 162.125.81.15, 2620:100:6031:15::a27d:510f\n",
            "Connecting to uc0df64945142a0e5fa3ac4bbc31.dl.dropboxusercontent.com (uc0df64945142a0e5fa3ac4bbc31.dl.dropboxusercontent.com)|162.125.81.15|:443... connected.\n",
            "HTTP request sent, awaiting response... 302 Found\n",
            "Location: /cd/0/inline2/BUJ9SsnWRia6EXib1pF_JHuX6I5u8IwxoZKHijAEMiaWoa6cigTU_EyPVqypanzmAzoi2CHJ-hRS4AdHWt5tNOHZFQuo3407Zx5ZervAVquv_Gth5F89ABQCAAyHtIifd369H376uh3zSzv0tijLdtstizIkGT414uLYlYhazsWrSFOe5p-QkbgDJ6YCeo2RipQShpAM53Azdu0neJXI9jKvlQVlsKCzMcTNeGq786wVgPFidP2vcReQ9hJUlP4ZhYwjkRjGquAIwxZWch5lSX9qZcebLCJ0PdIdA4_vrh29STeiY2ihE4X992fhYoTQo4P-fySaqKWNTG0rtK-vfDXUGK7IpeMsjhmliD5sYg_P6IZeSWKArYgymte0vdCd0Is/file [following]\n",
            "--2021-08-13 14:37:34--  https://uc0df64945142a0e5fa3ac4bbc31.dl.dropboxusercontent.com/cd/0/inline2/BUJ9SsnWRia6EXib1pF_JHuX6I5u8IwxoZKHijAEMiaWoa6cigTU_EyPVqypanzmAzoi2CHJ-hRS4AdHWt5tNOHZFQuo3407Zx5ZervAVquv_Gth5F89ABQCAAyHtIifd369H376uh3zSzv0tijLdtstizIkGT414uLYlYhazsWrSFOe5p-QkbgDJ6YCeo2RipQShpAM53Azdu0neJXI9jKvlQVlsKCzMcTNeGq786wVgPFidP2vcReQ9hJUlP4ZhYwjkRjGquAIwxZWch5lSX9qZcebLCJ0PdIdA4_vrh29STeiY2ihE4X992fhYoTQo4P-fySaqKWNTG0rtK-vfDXUGK7IpeMsjhmliD5sYg_P6IZeSWKArYgymte0vdCd0Is/file\n",
            "Reusing existing connection to uc0df64945142a0e5fa3ac4bbc31.dl.dropboxusercontent.com:443.\n",
            "HTTP request sent, awaiting response... 200 OK\n",
            "Length: 154392433 (147M) [application/zip]\n",
            "Saving to: ‘model_data_keras2/model_data_keras2.zip’\n",
            "\n",
            "model_data_keras2/m 100%[===================>] 147.24M  16.5MB/s    in 9.4s    \n",
            "\n",
            "2021-08-13 14:37:44 (15.7 MB/s) - ‘model_data_keras2/model_data_keras2.zip’ saved [154392433/154392433]\n",
            "\n",
            "Archive:  model_data_keras2/model_data_keras2.zip\n",
            "  inflating: model_data_keras2/model_data_keras2/prednet_kitti_model-extrapfinetuned.json  \n",
            "  inflating: model_data_keras2/model_data_keras2/prednet_kitti_model.json  \n",
            "   creating: model_data_keras2/model_data_keras2/tensorflow_weights/\n",
            "  inflating: model_data_keras2/model_data_keras2/tensorflow_weights/prednet_kitti_weights.hdf5  \n",
            "  inflating: model_data_keras2/model_data_keras2/tensorflow_weights/prednet_kitti_weights-Lall.hdf5  \n",
            "  inflating: model_data_keras2/model_data_keras2/tensorflow_weights/prednet_kitti_weights-extrapfinetuned.hdf5  \n",
            "   creating: model_data_keras2/model_data_keras2/theano_weights/\n",
            "  inflating: model_data_keras2/model_data_keras2/theano_weights/prednet_kitti_weights-extrapfinetuned.hdf5  \n",
            "  inflating: model_data_keras2/model_data_keras2/theano_weights/prednet_kitti_weights.hdf5  \n",
            "  inflating: model_data_keras2/model_data_keras2/theano_weights/prednet_kitti_weights-Lall.hdf5  \n",
            "mv: cannot move 'model_data_keras2/model_data_keras2/tensorflow_weights' to 'model_data_keras2/tensorflow_weights': Directory not empty\n",
            "mv: cannot move 'model_data_keras2/model_data_keras2/theano_weights' to 'model_data_keras2/theano_weights': Directory not empty\n"
          ],
          "name": "stdout"
        }
      ]
    },
    {
      "cell_type": "markdown",
      "metadata": {
        "id": "2rzGLI22CkfB"
      },
      "source": [
        "# **Video preprocessing**"
      ]
    },
    {
      "cell_type": "code",
      "metadata": {
        "id": "qaB2fqzIClnr",
        "colab": {
          "base_uri": "https://localhost:8080/"
        },
        "outputId": "58903ee3-8aed-4cac-fa11-0a9170791e90"
      },
      "source": [
        "# Colab directory containing videos\n",
        "video_dir = '/content/AlgonautsVideos268_All_30fpsmax'\n",
        "\n",
        "# get path of all videos\n",
        "video_list = glob.glob(video_dir + '/*.mp4')\n",
        "\n",
        "# sort videos in ascending order\n",
        "video_list.sort()\n",
        "\n",
        "print('Total number of videos: ', len(video_list))"
      ],
      "execution_count": 11,
      "outputs": [
        {
          "output_type": "stream",
          "text": [
            "Total number of videos:  1102\n"
          ],
          "name": "stdout"
        }
      ]
    },
    {
      "cell_type": "code",
      "metadata": {
        "id": "WCTF6gkSCtTt"
      },
      "source": [
        "def sample_video_from_mp4(file, num_frames = 16):\n",
        "    \"\"\"This function takes a mp4 video file as input and returns\n",
        "    an array of uniformly sampled frames.\n",
        "    \n",
        "    Args\n",
        "    ----------\n",
        "    file : str\n",
        "        path to mp4 video file\n",
        "    num_frames : int\n",
        "        number of frames to select with uniform frame sampling\n",
        "    \n",
        "    Returns\n",
        "    -------\n",
        "    frames: list of frames as PIL images\n",
        "    num_frames: number of sampled frames\n",
        "\n",
        "    \"\"\"\n",
        "    \n",
        "    # read video file\n",
        "    video = VideoReader(file)\n",
        "\n",
        "    # get total number of video frames\n",
        "    total_frames = len(video)\n",
        "\n",
        "    # create frame indices \n",
        "    frame_indices = np.linspace(0, total_frames-1, num_frames, dtype = np.int) \n",
        "\n",
        "    video_frames = []\n",
        "\n",
        "    # fill list of video frames as PIL images\n",
        "    for i in frame_indices:\n",
        "      video_frames.append(Image.fromarray(video[i].asnumpy()))\n",
        "\n",
        "    # convert to numpy array\n",
        "    video_frames = np.array([np.asarray(f) for f in video_frames])\n",
        "\n",
        "    return video_frames, num_frames\n"
      ],
      "execution_count": 12,
      "outputs": []
    },
    {
      "cell_type": "markdown",
      "metadata": {
        "id": "HkZ9Ll0fCwgb"
      },
      "source": [
        "# **Neural network feature extraction**"
      ]
    },
    {
      "cell_type": "markdown",
      "metadata": {
        "id": "B0U08ONGCzkA"
      },
      "source": [
        "## Pretrained model"
      ]
    },
    {
      "cell_type": "code",
      "metadata": {
        "id": "dhpP7S5mDBK-"
      },
      "source": [
        "#@title Helper function\n",
        "\n",
        "legacy_prednet_support = generate_legacy_interface(\n",
        "    allowed_positional_args=['stack_sizes', 'R_stack_sizes',\n",
        "                            'A_filt_sizes', 'Ahat_filt_sizes', 'R_filt_sizes'],\n",
        "    conversions=[('dim_ordering', 'data_format'),\n",
        "                 ('consume_less', 'implementation')],\n",
        "    value_conversions={'dim_ordering': {'tf': 'channels_last',\n",
        "                                        'th': 'channels_first',\n",
        "                                        'default': None},\n",
        "                        'consume_less': {'cpu': 0,\n",
        "                                        'mem': 1,\n",
        "                                        'gpu': 2}},\n",
        "    preprocessor=recurrent_args_preprocessor)"
      ],
      "execution_count": 13,
      "outputs": []
    },
    {
      "cell_type": "code",
      "metadata": {
        "id": "0cBRccArxCMT"
      },
      "source": [
        "#@title PredNet architecture\n",
        "\n",
        "# Reference: https://arxiv.org/abs/1605.08104, github repo: https://github.com/coxlab/prednet\n",
        "\n",
        "\n",
        "class PredNet(Recurrent):\n",
        "    '''PredNet architecture - Lotter 2016.\n",
        "        Stacked convolutional LSTM inspired by predictive coding principles.\n",
        "\n",
        "    # Arguments\n",
        "        stack_sizes: number of channels in targets (A) and predictions (Ahat) in each layer of the architecture.\n",
        "            Length is the number of layers in the architecture.\n",
        "            First element is the number of channels in the input.\n",
        "            Ex. (3, 16, 32) would correspond to a 3 layer architecture that takes in RGB images and has 16 and 32\n",
        "                channels in the second and third layers, respectively.\n",
        "        R_stack_sizes: number of channels in the representation (R) modules.\n",
        "            Length must equal length of stack_sizes, but the number of channels per layer can be different.\n",
        "        A_filt_sizes: filter sizes for the target (A) modules.\n",
        "            Has length of 1 - len(stack_sizes).\n",
        "            Ex. (3, 3) would mean that targets for layers 2 and 3 are computed by a 3x3 convolution of the errors (E)\n",
        "                from the layer below (followed by max-pooling)\n",
        "        Ahat_filt_sizes: filter sizes for the prediction (Ahat) modules.\n",
        "            Has length equal to length of stack_sizes.\n",
        "            Ex. (3, 3, 3) would mean that the predictions for each layer are computed by a 3x3 convolution of the\n",
        "                representation (R) modules at each layer.\n",
        "        R_filt_sizes: filter sizes for the representation (R) modules.\n",
        "            Has length equal to length of stack_sizes.\n",
        "            Corresponds to the filter sizes for all convolutions in the LSTM.\n",
        "        pixel_max: the maximum pixel value.\n",
        "            Used to clip the pixel-layer prediction.\n",
        "        error_activation: activation function for the error (E) units.\n",
        "        A_activation: activation function for the target (A) and prediction (A_hat) units.\n",
        "        LSTM_activation: activation function for the cell and hidden states of the LSTM.\n",
        "        LSTM_inner_activation: activation function for the gates in the LSTM.\n",
        "        output_mode: either 'error', 'prediction', 'all' or layer specification (ex. R2, see below).\n",
        "            Controls what is outputted by the PredNet.\n",
        "            If 'error', the mean response of the error (E) units of each layer will be outputted.\n",
        "                That is, the output shape will be (batch_size, nb_layers).\n",
        "            If 'prediction', the frame prediction will be outputted.\n",
        "            If 'all', the output will be the frame prediction concatenated with the mean layer errors.\n",
        "                The frame prediction is flattened before concatenation.\n",
        "                Nomenclature of 'all' is kept for backwards compatibility, but should not be confused with returning all of the layers of the model\n",
        "            For returning the features of a particular layer, output_mode should be of the form unit_type + layer_number.\n",
        "                For instance, to return the features of the LSTM \"representational\" units in the lowest layer, output_mode should be specificied as 'R0'.\n",
        "                The possible unit types are 'R', 'Ahat', 'A', and 'E' corresponding to the 'representation', 'prediction', 'target', and 'error' units respectively.\n",
        "        extrap_start_time: time step for which model will start extrapolating.\n",
        "            Starting at this time step, the prediction from the previous time step will be treated as the \"actual\"\n",
        "        data_format: 'channels_first' or 'channels_last'.\n",
        "            It defaults to the `image_data_format` value found in your\n",
        "            Keras config file at `~/.keras/keras.json`.\n",
        "\n",
        "    # References\n",
        "        - [Deep predictive coding networks for video prediction and unsupervised learning](https://arxiv.org/abs/1605.08104)\n",
        "        - [Long short-term memory](http://deeplearning.cs.cmu.edu/pdfs/Hochreiter97_lstm.pdf)\n",
        "        - [Convolutional LSTM network: a machine learning approach for precipitation nowcasting](http://arxiv.org/abs/1506.04214)\n",
        "        - [Predictive coding in the visual cortex: a functional interpretation of some extra-classical receptive-field effects](http://www.nature.com/neuro/journal/v2/n1/pdf/nn0199_79.pdf)\n",
        "    '''\n",
        "    @legacy_prednet_support\n",
        "    def __init__(self, stack_sizes, R_stack_sizes,\n",
        "                 A_filt_sizes, Ahat_filt_sizes, R_filt_sizes,\n",
        "                 pixel_max=1., error_activation='relu', A_activation='relu',\n",
        "                 LSTM_activation='tanh', LSTM_inner_activation='hard_sigmoid',\n",
        "                 output_mode='error', extrap_start_time=None,\n",
        "                 data_format=K.image_data_format(), **kwargs):\n",
        "        self.stack_sizes = stack_sizes\n",
        "        self.nb_layers = len(stack_sizes)\n",
        "        assert len(R_stack_sizes) == self.nb_layers, 'len(R_stack_sizes) must equal len(stack_sizes)'\n",
        "        self.R_stack_sizes = R_stack_sizes\n",
        "        assert len(A_filt_sizes) == (self.nb_layers - 1), 'len(A_filt_sizes) must equal len(stack_sizes) - 1'\n",
        "        self.A_filt_sizes = A_filt_sizes\n",
        "        assert len(Ahat_filt_sizes) == self.nb_layers, 'len(Ahat_filt_sizes) must equal len(stack_sizes)'\n",
        "        self.Ahat_filt_sizes = Ahat_filt_sizes\n",
        "        assert len(R_filt_sizes) == (self.nb_layers), 'len(R_filt_sizes) must equal len(stack_sizes)'\n",
        "        self.R_filt_sizes = R_filt_sizes\n",
        "\n",
        "        self.pixel_max = pixel_max\n",
        "        self.error_activation = activations.get(error_activation)\n",
        "        self.A_activation = activations.get(A_activation)\n",
        "        self.LSTM_activation = activations.get(LSTM_activation)\n",
        "        self.LSTM_inner_activation = activations.get(LSTM_inner_activation)\n",
        "\n",
        "        default_output_modes = ['prediction', 'error', 'all']\n",
        "        layer_output_modes = [layer + str(n) for n in range(self.nb_layers) for layer in ['R', 'E', 'A', 'Ahat']]\n",
        "        assert output_mode in default_output_modes + layer_output_modes, 'Invalid output_mode: ' + str(output_mode)\n",
        "        self.output_mode = output_mode\n",
        "        if self.output_mode in layer_output_modes:\n",
        "            self.output_layer_type = self.output_mode[:-1]\n",
        "            self.output_layer_num = int(self.output_mode[-1])\n",
        "        else:\n",
        "            self.output_layer_type = None\n",
        "            self.output_layer_num = None\n",
        "        self.extrap_start_time = extrap_start_time\n",
        "\n",
        "        assert data_format in {'channels_last', 'channels_first'}, 'data_format must be in {channels_last, channels_first}'\n",
        "        self.data_format = data_format\n",
        "        self.channel_axis = -3 if data_format == 'channels_first' else -1\n",
        "        self.row_axis = -2 if data_format == 'channels_first' else -3\n",
        "        self.column_axis = -1 if data_format == 'channels_first' else -2\n",
        "        super(PredNet, self).__init__(**kwargs)\n",
        "        self.input_spec = [InputSpec(ndim=5)]\n",
        "\n",
        "    def compute_output_shape(self, input_shape):\n",
        "        if self.output_mode == 'prediction':\n",
        "            out_shape = input_shape[2:]\n",
        "        elif self.output_mode == 'error':\n",
        "            out_shape = (self.nb_layers,)\n",
        "        elif self.output_mode == 'all':\n",
        "            out_shape = (np.prod(input_shape[2:]) + self.nb_layers,)\n",
        "        else:\n",
        "            stack_str = 'R_stack_sizes' if self.output_layer_type == 'R' else 'stack_sizes'\n",
        "            stack_mult = 2 if self.output_layer_type == 'E' else 1\n",
        "            out_stack_size = stack_mult * getattr(self, stack_str)[self.output_layer_num]\n",
        "            out_nb_row = input_shape[self.row_axis] / 2**self.output_layer_num\n",
        "            out_nb_col = input_shape[self.column_axis] / 2**self.output_layer_num\n",
        "            if self.data_format == 'channels_first':\n",
        "                out_shape = (out_stack_size, out_nb_row, out_nb_col)\n",
        "            else:\n",
        "                out_shape = (out_nb_row, out_nb_col, out_stack_size)\n",
        "\n",
        "        if self.return_sequences:\n",
        "            return (input_shape[0], input_shape[1]) + out_shape\n",
        "        else:\n",
        "            return (input_shape[0],) + out_shape\n",
        "\n",
        "    def get_initial_state(self, x):\n",
        "        input_shape = self.input_spec[0].shape\n",
        "        init_nb_row = input_shape[self.row_axis]\n",
        "        init_nb_col = input_shape[self.column_axis]\n",
        "\n",
        "        base_initial_state = K.zeros_like(x)  # (samples, timesteps) + image_shape\n",
        "        non_channel_axis = -1 if self.data_format == 'channels_first' else -2\n",
        "        for _ in range(2):\n",
        "            base_initial_state = K.sum(base_initial_state, axis=non_channel_axis)\n",
        "        base_initial_state = K.sum(base_initial_state, axis=1)  # (samples, nb_channels)\n",
        "\n",
        "        initial_states = []\n",
        "        states_to_pass = ['r', 'c', 'e']\n",
        "        nlayers_to_pass = {u: self.nb_layers for u in states_to_pass}\n",
        "        if self.extrap_start_time is not None:\n",
        "           states_to_pass.append('ahat')  # pass prediction in states so can use as actual for t+1 when extrapolating\n",
        "           nlayers_to_pass['ahat'] = 1\n",
        "        for u in states_to_pass:\n",
        "            for l in range(nlayers_to_pass[u]):\n",
        "                ds_factor = 2 ** l\n",
        "                nb_row = init_nb_row // ds_factor\n",
        "                nb_col = init_nb_col // ds_factor\n",
        "                if u in ['r', 'c']:\n",
        "                    stack_size = self.R_stack_sizes[l]\n",
        "                elif u == 'e':\n",
        "                    stack_size = 2 * self.stack_sizes[l]\n",
        "                elif u == 'ahat':\n",
        "                    stack_size = self.stack_sizes[l]\n",
        "                output_size = stack_size * nb_row * nb_col  # flattened size\n",
        "\n",
        "                reducer = K.zeros((input_shape[self.channel_axis], output_size)) # (nb_channels, output_size)\n",
        "                initial_state = K.dot(base_initial_state, reducer) # (samples, output_size)\n",
        "                if self.data_format == 'channels_first':\n",
        "                    output_shp = (-1, stack_size, nb_row, nb_col)\n",
        "                else:\n",
        "                    output_shp = (-1, nb_row, nb_col, stack_size)\n",
        "                initial_state = K.reshape(initial_state, output_shp)\n",
        "                initial_states += [initial_state]\n",
        "\n",
        "        if keras.backend.backend() == 'theano':\n",
        "            from theano import tensor as T\n",
        "            # There is a known issue in the Theano scan op when dealing with inputs whose shape is 1 along a dimension.\n",
        "            # In our case, this is a problem when training on grayscale images, and the below line fixes it.\n",
        "            initial_states = [T.unbroadcast(init_state, 0, 1) for init_state in initial_states]\n",
        "\n",
        "        if self.extrap_start_time is not None:\n",
        "            initial_states += [K.variable(0, int if K.backend() != 'tensorflow' else 'int32')]  # the last state will correspond to the current timestep\n",
        "        return initial_states\n",
        "\n",
        "    def build(self, input_shape):\n",
        "        self.input_spec = [InputSpec(shape=input_shape)]\n",
        "        self.conv_layers = {c: [] for c in ['i', 'f', 'c', 'o', 'a', 'ahat']}\n",
        "\n",
        "        for l in range(self.nb_layers):\n",
        "            for c in ['i', 'f', 'c', 'o']:\n",
        "                act = self.LSTM_activation if c == 'c' else self.LSTM_inner_activation\n",
        "                self.conv_layers[c].append(Conv2D(self.R_stack_sizes[l], self.R_filt_sizes[l], padding='same', activation=act, data_format=self.data_format))\n",
        "\n",
        "            act = 'relu' if l == 0 else self.A_activation\n",
        "            self.conv_layers['ahat'].append(Conv2D(self.stack_sizes[l], self.Ahat_filt_sizes[l], padding='same', activation=act, data_format=self.data_format))\n",
        "\n",
        "            if l < self.nb_layers - 1:\n",
        "                self.conv_layers['a'].append(Conv2D(self.stack_sizes[l+1], self.A_filt_sizes[l], padding='same', activation=self.A_activation, data_format=self.data_format))\n",
        "\n",
        "        self.upsample = UpSampling2D(data_format=self.data_format)\n",
        "        self.pool = MaxPooling2D(data_format=self.data_format)\n",
        "\n",
        "        self.trainable_weights = []\n",
        "        nb_row, nb_col = (input_shape[-2], input_shape[-1]) if self.data_format == 'channels_first' else (input_shape[-3], input_shape[-2])\n",
        "        for c in sorted(self.conv_layers.keys()):\n",
        "            for l in range(len(self.conv_layers[c])):\n",
        "                ds_factor = 2 ** l\n",
        "                if c == 'ahat':\n",
        "                    nb_channels = self.R_stack_sizes[l]\n",
        "                elif c == 'a':\n",
        "                    nb_channels = 2 * self.stack_sizes[l]\n",
        "                else:\n",
        "                    nb_channels = self.stack_sizes[l] * 2 + self.R_stack_sizes[l]\n",
        "                    if l < self.nb_layers - 1:\n",
        "                        nb_channels += self.R_stack_sizes[l+1]\n",
        "                in_shape = (input_shape[0], nb_channels, nb_row // ds_factor, nb_col // ds_factor)\n",
        "                if self.data_format == 'channels_last': in_shape = (in_shape[0], in_shape[2], in_shape[3], in_shape[1])\n",
        "                with K.name_scope('layer_' + c + '_' + str(l)):\n",
        "                    self.conv_layers[c][l].build(in_shape)\n",
        "                self.trainable_weights += self.conv_layers[c][l].trainable_weights\n",
        "\n",
        "        self.states = [None] * self.nb_layers*3\n",
        "\n",
        "        if self.extrap_start_time is not None:\n",
        "            self.t_extrap = K.variable(self.extrap_start_time, int if K.backend() != 'tensorflow' else 'int32')\n",
        "            self.states += [None] * 2  # [previous frame prediction, timestep]\n",
        "\n",
        "    def step(self, a, states):\n",
        "        r_tm1 = states[:self.nb_layers]\n",
        "        c_tm1 = states[self.nb_layers:2*self.nb_layers]\n",
        "        e_tm1 = states[2*self.nb_layers:3*self.nb_layers]\n",
        "\n",
        "        if self.extrap_start_time is not None:\n",
        "            t = states[-1]\n",
        "            a = K.switch(t >= self.t_extrap, states[-2], a)  # if past self.extrap_start_time, the previous prediction will be treated as the actual\n",
        "\n",
        "        c = []\n",
        "        r = []\n",
        "        e = []\n",
        "\n",
        "        # Update R units starting from the top\n",
        "        for l in reversed(range(self.nb_layers)):\n",
        "            inputs = [r_tm1[l], e_tm1[l]]\n",
        "            if l < self.nb_layers - 1:\n",
        "                inputs.append(r_up)\n",
        "\n",
        "            inputs = K.concatenate(inputs, axis=self.channel_axis)\n",
        "            i = self.conv_layers['i'][l].call(inputs)\n",
        "            f = self.conv_layers['f'][l].call(inputs)\n",
        "            o = self.conv_layers['o'][l].call(inputs)\n",
        "            _c = f * c_tm1[l] + i * self.conv_layers['c'][l].call(inputs)\n",
        "            _r = o * self.LSTM_activation(_c)\n",
        "            c.insert(0, _c)\n",
        "            r.insert(0, _r)\n",
        "\n",
        "            if l > 0:\n",
        "                r_up = self.upsample.call(_r)\n",
        "\n",
        "        # Update feedforward path starting from the bottom\n",
        "        for l in range(self.nb_layers):\n",
        "            ahat = self.conv_layers['ahat'][l].call(r[l])\n",
        "            if l == 0:\n",
        "                ahat = K.minimum(ahat, self.pixel_max)\n",
        "                frame_prediction = ahat\n",
        "\n",
        "            # compute errors\n",
        "            e_up = self.error_activation(ahat - a)\n",
        "            e_down = self.error_activation(a - ahat)\n",
        "\n",
        "            e.append(K.concatenate((e_up, e_down), axis=self.channel_axis))\n",
        "\n",
        "            if self.output_layer_num == l:\n",
        "                if self.output_layer_type == 'A':\n",
        "                    output = a\n",
        "                elif self.output_layer_type == 'Ahat':\n",
        "                    output = ahat\n",
        "                elif self.output_layer_type == 'R':\n",
        "                    output = r[l]\n",
        "                elif self.output_layer_type == 'E':\n",
        "                    output = e[l]\n",
        "\n",
        "            if l < self.nb_layers - 1:\n",
        "                a = self.conv_layers['a'][l].call(e[l])\n",
        "                a = self.pool.call(a)  # target for next layer\n",
        "\n",
        "        if self.output_layer_type is None:\n",
        "            if self.output_mode == 'prediction':\n",
        "                output = frame_prediction\n",
        "            else:\n",
        "                for l in range(self.nb_layers):\n",
        "                    layer_error = K.mean(K.batch_flatten(e[l]), axis=-1, keepdims=True)\n",
        "                    all_error = layer_error if l == 0 else K.concatenate((all_error, layer_error), axis=-1)\n",
        "                if self.output_mode == 'error':\n",
        "                    output = all_error\n",
        "                else:\n",
        "                    output = K.concatenate((K.batch_flatten(frame_prediction), all_error), axis=-1)\n",
        "\n",
        "        states = r + c + e\n",
        "        if self.extrap_start_time is not None:\n",
        "            states += [frame_prediction, t + 1]\n",
        "        return output, states\n",
        "\n",
        "    def get_config(self):\n",
        "        config = {'stack_sizes': self.stack_sizes,\n",
        "                  'R_stack_sizes': self.R_stack_sizes,\n",
        "                  'A_filt_sizes': self.A_filt_sizes,\n",
        "                  'Ahat_filt_sizes': self.Ahat_filt_sizes,\n",
        "                  'R_filt_sizes': self.R_filt_sizes,\n",
        "                  'pixel_max': self.pixel_max,\n",
        "                  'error_activation': self.error_activation.__name__,\n",
        "                  'A_activation': self.A_activation.__name__,\n",
        "                  'LSTM_activation': self.LSTM_activation.__name__,\n",
        "                  'LSTM_inner_activation': self.LSTM_inner_activation.__name__,\n",
        "                  'data_format': self.data_format,\n",
        "                  'extrap_start_time': self.extrap_start_time,\n",
        "                  'output_mode': self.output_mode}\n",
        "        base_config = super(PredNet, self).get_config()\n",
        "        return dict(list(base_config.items()) + list(config.items()))\n"
      ],
      "execution_count": 14,
      "outputs": []
    },
    {
      "cell_type": "code",
      "metadata": {
        "id": "W-YxsLNKxM8N"
      },
      "source": [
        "# pretrained weights directory\n",
        "WEIGHTS_DIR = './model_data_keras2/'\n",
        "\n",
        "# weights and model files\n",
        "weights_file = os.path.join(WEIGHTS_DIR, 'tensorflow_weights/prednet_kitti_weights.hdf5')\n",
        "json_file = os.path.join(WEIGHTS_DIR, 'prednet_kitti_model.json')"
      ],
      "execution_count": 15,
      "outputs": []
    },
    {
      "cell_type": "code",
      "metadata": {
        "id": "Udi-xgPtxOgV",
        "colab": {
          "base_uri": "https://localhost:8080/"
        },
        "outputId": "efb0aeee-4373-481f-c1ef-ff67cf29b3cf"
      },
      "source": [
        "# load model weights\n",
        "with open(json_file, 'r') as f:\n",
        "    json_string = f.read()\n",
        "    print(json_string)\n",
        "\n",
        "train_model = model_from_json(json_string, custom_objects = {'PredNet': PredNet})\n",
        "train_model.load_weights(weights_file)"
      ],
      "execution_count": 16,
      "outputs": [
        {
          "output_type": "stream",
          "text": [
            "{\"class_name\": \"Model\", \"keras_version\": \"2.0.6\", \"config\": {\"layers\": [{\"class_name\": \"InputLayer\", \"config\": {\"dtype\": \"float32\", \"batch_input_shape\": [null, 10, 3, 128, 160], \"name\": \"input_1\", \"sparse\": false}, \"inbound_nodes\": [], \"name\": \"input_1\"}, {\"class_name\": \"PredNet\", \"config\": {\"dtype\": \"float32\", \"trainable\": true, \"pixel_max\": 1.0, \"Ahat_filt_sizes\": [3, 3, 3, 3], \"return_state\": false, \"R_filt_sizes\": [3, 3, 3, 3], \"unroll\": false, \"batch_input_shape\": [null, null, null], \"LSTM_inner_activation\": \"hard_sigmoid\", \"output_mode\": \"error\", \"stateful\": false, \"error_activation\": \"relu\", \"A_activation\": \"relu\", \"A_filt_sizes\": [3, 3, 3], \"stack_sizes\": [3, 48, 96, 192], \"name\": \"prednet_1\", \"R_stack_sizes\": [3, 48, 96, 192], \"data_format\": \"channels_first\", \"implementation\": 0, \"extrap_start_time\": null, \"go_backwards\": false, \"return_sequences\": true, \"LSTM_activation\": \"tanh\"}, \"inbound_nodes\": [[[\"input_1\", 0, 0, {}]]], \"name\": \"prednet_1\"}, {\"class_name\": \"TimeDistributed\", \"config\": {\"layer\": {\"class_name\": \"Dense\", \"config\": {\"kernel_initializer\": {\"class_name\": \"VarianceScaling\", \"config\": {\"distribution\": \"uniform\", \"scale\": 1.0, \"seed\": null, \"mode\": \"fan_avg\"}}, \"name\": \"dense_1\", \"kernel_constraint\": null, \"bias_regularizer\": null, \"bias_constraint\": null, \"dtype\": \"float32\", \"activation\": \"linear\", \"trainable\": false, \"kernel_regularizer\": null, \"bias_initializer\": {\"class_name\": \"Zeros\", \"config\": {}}, \"units\": 1, \"batch_input_shape\": [null, null], \"use_bias\": true, \"activity_regularizer\": null}}, \"trainable\": false, \"name\": \"timedistributed_1\"}, \"inbound_nodes\": [[[\"prednet_1\", 0, 0, {}]]], \"name\": \"timedistributed_1\"}, {\"class_name\": \"Flatten\", \"config\": {\"trainable\": true, \"name\": \"flatten_1\"}, \"inbound_nodes\": [[[\"timedistributed_1\", 0, 0, {}]]], \"name\": \"flatten_1\"}, {\"class_name\": \"Dense\", \"config\": {\"kernel_initializer\": {\"class_name\": \"VarianceScaling\", \"config\": {\"distribution\": \"uniform\", \"scale\": 1.0, \"seed\": null, \"mode\": \"fan_avg\"}}, \"name\": \"dense_2\", \"kernel_constraint\": null, \"bias_regularizer\": null, \"bias_constraint\": null, \"dtype\": \"float32\", \"activation\": \"linear\", \"trainable\": false, \"kernel_regularizer\": null, \"bias_initializer\": {\"class_name\": \"Zeros\", \"config\": {}}, \"units\": 1, \"batch_input_shape\": [null, null], \"use_bias\": true, \"activity_regularizer\": null}, \"inbound_nodes\": [[[\"flatten_1\", 0, 0, {}]]], \"name\": \"dense_2\"}], \"input_layers\": [[\"input_1\", 0, 0]], \"output_layers\": [[\"dense_2\", 0, 0]], \"name\": \"model_1\"}, \"backend\": \"theano\"}\n",
            "WARNING:tensorflow:From /tensorflow-1.15.2/python3.7/tensorflow_core/python/ops/resource_variable_ops.py:1630: calling BaseResourceVariable.__init__ (from tensorflow.python.ops.resource_variable_ops) with constraint is deprecated and will be removed in a future version.\n",
            "Instructions for updating:\n",
            "If using Keras pass *_constraint arguments to layers.\n",
            "WARNING:tensorflow:From /tensorflow-1.15.2/python3.7/keras/backend/tensorflow_backend.py:4070: The name tf.nn.max_pool is deprecated. Please use tf.nn.max_pool2d instead.\n",
            "\n"
          ],
          "name": "stdout"
        }
      ]
    },
    {
      "cell_type": "code",
      "metadata": {
        "id": "CnZSOkCcxQ3G"
      },
      "source": [
        "# set parameters\n",
        "batch_size = 1\n",
        "nt = 16   # time steps/frames"
      ],
      "execution_count": 17,
      "outputs": []
    },
    {
      "cell_type": "code",
      "metadata": {
        "id": "IRkXhLZvxShY"
      },
      "source": [
        "# model configuration\n",
        "layer_config = train_model.layers[1].get_config()\n",
        "layer_config['output_mode'] = 'error'      ########## change output mode ###########\n",
        "data_format = layer_config['data_format'] if 'data_format' in layer_config else layer_config['dim_ordering']\n",
        "test_prednet = PredNet(weights=train_model.layers[1].get_weights(), **layer_config)\n",
        "input_shape = list(train_model.layers[0].batch_input_shape[1:])\n",
        "input_shape[0] = nt\n",
        "inputs = keras.Input(shape=tuple(input_shape))\n",
        "predictions = test_prednet(inputs)\n",
        "test_model = Model(inputs=inputs, outputs=predictions)"
      ],
      "execution_count": 18,
      "outputs": []
    },
    {
      "cell_type": "code",
      "metadata": {
        "colab": {
          "base_uri": "https://localhost:8080/"
        },
        "id": "_7rMFdPD2Sm1",
        "outputId": "f6299a51-7d52-40b8-98f6-e543216bdcfd"
      },
      "source": [
        "train_model.summary()"
      ],
      "execution_count": 19,
      "outputs": [
        {
          "output_type": "stream",
          "text": [
            "Model: \"model_1\"\n",
            "_________________________________________________________________\n",
            "Layer (type)                 Output Shape              Param #   \n",
            "=================================================================\n",
            "input_1 (InputLayer)         (None, 10, 3, 128, 160)   0         \n",
            "_________________________________________________________________\n",
            "prednet_1 (PredNet)          (None, 10, 4)             6915948   \n",
            "_________________________________________________________________\n",
            "timedistributed_1 (TimeDistr (None, 10, 1)             5         \n",
            "_________________________________________________________________\n",
            "flatten_1 (Flatten)          (None, 10)                0         \n",
            "_________________________________________________________________\n",
            "dense_2 (Dense)              (None, 1)                 11        \n",
            "=================================================================\n",
            "Total params: 6,915,964\n",
            "Trainable params: 6,915,948\n",
            "Non-trainable params: 16\n",
            "_________________________________________________________________\n"
          ],
          "name": "stdout"
        }
      ]
    },
    {
      "cell_type": "code",
      "metadata": {
        "colab": {
          "base_uri": "https://localhost:8080/"
        },
        "id": "Sm6R5csj2Wtx",
        "outputId": "ec47e7a8-bfc8-438a-fbe4-15e706700f15"
      },
      "source": [
        "test_model.summary()"
      ],
      "execution_count": 20,
      "outputs": [
        {
          "output_type": "stream",
          "text": [
            "Model: \"model_1\"\n",
            "_________________________________________________________________\n",
            "Layer (type)                 Output Shape              Param #   \n",
            "=================================================================\n",
            "input_1 (InputLayer)         (None, 16, 3, 128, 160)   0         \n",
            "_________________________________________________________________\n",
            "prednet_1 (PredNet)          (None, 16, 4)             6915948   \n",
            "=================================================================\n",
            "Total params: 6,915,948\n",
            "Trainable params: 6,915,948\n",
            "Non-trainable params: 0\n",
            "_________________________________________________________________\n"
          ],
          "name": "stdout"
        }
      ]
    },
    {
      "cell_type": "code",
      "metadata": {
        "colab": {
          "base_uri": "https://localhost:8080/"
        },
        "id": "5BoRJuIDwS1f",
        "outputId": "308fee32-7d95-4a0e-f1ee-ffc8faa4a5c7"
      },
      "source": [
        "test_model"
      ],
      "execution_count": 21,
      "outputs": [
        {
          "output_type": "execute_result",
          "data": {
            "text/plain": [
              "<keras.engine.training.Model at 0x7f86325f7e10>"
            ]
          },
          "metadata": {
            "tags": []
          },
          "execution_count": 21
        }
      ]
    },
    {
      "cell_type": "markdown",
      "metadata": {
        "id": "HAAFAxHAxfRA"
      },
      "source": [
        "### Example prediction"
      ]
    },
    {
      "cell_type": "code",
      "metadata": {
        "id": "uTytCEr8xhgB"
      },
      "source": [
        "example_frames, num_frames = sample_video_from_mp4(video_list[550])\n",
        "\n",
        "# preprocess example frames\n",
        "example_frames = example_frames/255\n",
        "example_frames = tf.image.resize(example_frames, (128, 160))\n",
        "example_frames = tf.expand_dims(example_frames, axis = 0)\n",
        "example_frames = tf.transpose(example_frames, (0, 1, 4, 2, 3))\n",
        "example_frames = example_frames.eval(session=tf.compat.v1.Session())"
      ],
      "execution_count": null,
      "outputs": []
    },
    {
      "cell_type": "code",
      "metadata": {
        "id": "Xx8R7WLixjWn"
      },
      "source": [
        "# predict\n",
        "X_hat = test_model.predict(example_frames, batch_size)"
      ],
      "execution_count": null,
      "outputs": []
    },
    {
      "cell_type": "code",
      "metadata": {
        "colab": {
          "base_uri": "https://localhost:8080/"
        },
        "id": "G4OvI-WXYoEG",
        "outputId": "2471fc40-2ea1-4380-91f8-2912e38c9a03"
      },
      "source": [
        "example_frames = np.transpose(example_frames, axes=(0,1,3,4,2))\n",
        "example_frames.shape"
      ],
      "execution_count": null,
      "outputs": [
        {
          "output_type": "execute_result",
          "data": {
            "text/plain": [
              "(1, 16, 128, 160, 3)"
            ]
          },
          "metadata": {
            "tags": []
          },
          "execution_count": 72
        }
      ]
    },
    {
      "cell_type": "code",
      "metadata": {
        "colab": {
          "base_uri": "https://localhost:8080/"
        },
        "id": "plWiL7rTYYxq",
        "outputId": "3e1a45e1-69fa-4ebe-f608-380e2819332d"
      },
      "source": [
        "X_hat = np.transpose(example_frames, axes=(0,1,2,3,4))\n",
        "X_hat.shape"
      ],
      "execution_count": null,
      "outputs": [
        {
          "output_type": "execute_result",
          "data": {
            "text/plain": [
              "(1, 16, 128, 160, 3)"
            ]
          },
          "metadata": {
            "tags": []
          },
          "execution_count": 73
        }
      ]
    },
    {
      "cell_type": "code",
      "metadata": {
        "colab": {
          "base_uri": "https://localhost:8080/",
          "height": 285
        },
        "id": "9K3P4y3fYa4P",
        "outputId": "d124fa02-ffeb-4bd0-d87e-d43fa4a7f30a"
      },
      "source": [
        "plt.imshow(example_frames[0,14])"
      ],
      "execution_count": null,
      "outputs": [
        {
          "output_type": "execute_result",
          "data": {
            "text/plain": [
              "<matplotlib.image.AxesImage at 0x7fa9fea5c990>"
            ]
          },
          "metadata": {
            "tags": []
          },
          "execution_count": 81
        },
        {
          "output_type": "display_data",
          "data": {
            "image/png": "[encoded data removed]",
            "text/plain": [
              "<Figure size 432x288 with 1 Axes>"
            ]
          },
          "metadata": {
            "tags": [],
            "needs_background": "light"
          }
        }
      ]
    },
    {
      "cell_type": "code",
      "metadata": {
        "colab": {
          "base_uri": "https://localhost:8080/",
          "height": 285
        },
        "id": "YG7pqh4rZBJI",
        "outputId": "8b45d820-3e76-43f4-e541-e7549ed58b50"
      },
      "source": [
        "plt.imshow(X_hat[0,14])"
      ],
      "execution_count": null,
      "outputs": [
        {
          "output_type": "execute_result",
          "data": {
            "text/plain": [
              "<matplotlib.image.AxesImage at 0x7fa9fea5c810>"
            ]
          },
          "metadata": {
            "tags": []
          },
          "execution_count": 82
        },
        {
          "output_type": "display_data",
          "data": {
            "image/png": "[encoded data removed]",
            "text/plain": [
              "<Figure size 432x288 with 1 Axes>"
            ]
          },
          "metadata": {
            "tags": [],
            "needs_background": "light"
          }
        }
      ]
    },
    {
      "cell_type": "markdown",
      "metadata": {
        "id": "9_ivWo4xDCPq"
      },
      "source": [
        "## Model activations"
      ]
    },
    {
      "cell_type": "code",
      "metadata": {
        "id": "jJfZPNnz2wlF"
      },
      "source": [
        "video_frames, num_frames = sample_video_from_mp4(video_list[1])"
      ],
      "execution_count": 30,
      "outputs": []
    },
    {
      "cell_type": "code",
      "metadata": {
        "colab": {
          "base_uri": "https://localhost:8080/"
        },
        "id": "JYH_4ZMe22Gt",
        "outputId": "5598812c-2fbb-49aa-bf3d-bba991c00358"
      },
      "source": [
        "print(video_frames.shape)\n",
        "print(num_frames)"
      ],
      "execution_count": 24,
      "outputs": [
        {
          "output_type": "stream",
          "text": [
            "(16, 268, 268, 3)\n",
            "16\n"
          ],
          "name": "stdout"
        }
      ]
    },
    {
      "cell_type": "code",
      "metadata": {
        "colab": {
          "base_uri": "https://localhost:8080/"
        },
        "id": "s7z4XUaJ1z2_",
        "outputId": "b3aa0a4b-ceae-43ef-905f-848c028645a3"
      },
      "source": [
        "#fake videoframe with np\n",
        "#model = test_model\n",
        "#x1 = test_model.predict(video_frames, batch_size=1)\n",
        "# inspect x1 and its size\n",
        "\n",
        "video_frames = video_frames / 255.0\n",
        "video_frames = tf.image.resize(video_frames, (128, 160))\n",
        "video_frames = tf.expand_dims(video_frames, axis = 0)\n",
        "video_frames = tf.transpose(video_frames, (0, 1, 4, 2, 3))\n",
        "print('---before', video_frames.shape)\n",
        "#video_frames = video_frames.eval(session=tf.compat.v1.Session())\n",
        "print('----after', video_frames.shape)"
      ],
      "execution_count": 31,
      "outputs": [
        {
          "output_type": "stream",
          "text": [
            "---before (1, 16, 3, 128, 160)\n",
            "----after (1, 16, 3, 128, 160)\n"
          ],
          "name": "stdout"
        }
      ]
    },
    {
      "cell_type": "code",
      "metadata": {
        "colab": {
          "base_uri": "https://localhost:8080/"
        },
        "id": "X2X8LGXx-KZW",
        "outputId": "31341f79-be75-4e8d-a5aa-22dcca7e053d"
      },
      "source": [
        "print(video_frames)"
      ],
      "execution_count": 32,
      "outputs": [
        {
          "output_type": "stream",
          "text": [
            "Tensor(\"transpose_1:0\", shape=(1, 16, 3, 128, 160), dtype=float32)\n"
          ],
          "name": "stdout"
        }
      ]
    },
    {
      "cell_type": "code",
      "metadata": {
        "colab": {
          "base_uri": "https://localhost:8080/"
        },
        "id": "I8LXxNi39sTq",
        "outputId": "68989618-883d-4174-8747-ae3076a3c74a"
      },
      "source": [
        "print(video_frames.shape)"
      ],
      "execution_count": 29,
      "outputs": [
        {
          "output_type": "stream",
          "text": [
            "(16, 268, 268, 3)\n"
          ],
          "name": "stdout"
        }
      ]
    },
    {
      "cell_type": "code",
      "metadata": {
        "colab": {
          "base_uri": "https://localhost:8080/",
          "height": 231
        },
        "id": "BcNaR8cn9OYH",
        "outputId": "cb07c72b-fdc4-4883-d210-cf917efb9b33"
      },
      "source": [
        "#fake videoframe with np\n",
        "#model = test_model\n",
        "#x1 = test_model.predict(video_frames, batch_size=1)\n",
        "# inspect x1 and its size\n",
        "import cv2\n",
        "video_frames = video_frames / 255.0\n",
        "#video_frames = cv2.imread(video)\n",
        "\n",
        "video_frames = cv2.resize(video_frames, (128, 160))\n",
        "video_frames = np.expand_dims(video_frames, axis = 0)\n",
        "video_frames = np.transpose(video_frames, (0, 1, 4, 2, 3))\n",
        "print('---before', video_frames.shape)\n",
        "#video_frames = video_frames.eval(session=tf.compat.v1.Session())\n",
        "print('----after', video_frames.shape)"
      ],
      "execution_count": 28,
      "outputs": [
        {
          "output_type": "error",
          "ename": "error",
          "evalue": "ignored",
          "traceback": [
            "\u001b[0;31m---------------------------------------------------------------------------\u001b[0m",
            "\u001b[0;31merror\u001b[0m                                     Traceback (most recent call last)",
            "\u001b[0;32m<ipython-input-28-b2906103f198>\u001b[0m in \u001b[0;36m<module>\u001b[0;34m()\u001b[0m\n\u001b[1;32m      5\u001b[0m \u001b[0;32mimport\u001b[0m \u001b[0mcv2\u001b[0m\u001b[0;34m\u001b[0m\u001b[0;34m\u001b[0m\u001b[0m\n\u001b[1;32m      6\u001b[0m \u001b[0mvideo_frames\u001b[0m \u001b[0;34m=\u001b[0m \u001b[0mvideo_frames\u001b[0m \u001b[0;34m/\u001b[0m \u001b[0;36m255.0\u001b[0m\u001b[0;34m\u001b[0m\u001b[0;34m\u001b[0m\u001b[0m\n\u001b[0;32m----> 7\u001b[0;31m \u001b[0mvideo_frames\u001b[0m \u001b[0;34m=\u001b[0m \u001b[0mcv2\u001b[0m\u001b[0;34m.\u001b[0m\u001b[0mresize\u001b[0m\u001b[0;34m(\u001b[0m\u001b[0mvideo_frames\u001b[0m\u001b[0;34m,\u001b[0m \u001b[0;34m(\u001b[0m\u001b[0;36m128\u001b[0m\u001b[0;34m,\u001b[0m \u001b[0;36m160\u001b[0m\u001b[0;34m)\u001b[0m\u001b[0;34m)\u001b[0m\u001b[0;34m\u001b[0m\u001b[0;34m\u001b[0m\u001b[0m\n\u001b[0m\u001b[1;32m      8\u001b[0m \u001b[0mvideo_frames\u001b[0m \u001b[0;34m=\u001b[0m \u001b[0mnp\u001b[0m\u001b[0;34m.\u001b[0m\u001b[0mexpand_dims\u001b[0m\u001b[0;34m(\u001b[0m\u001b[0mvideo_frames\u001b[0m\u001b[0;34m,\u001b[0m \u001b[0maxis\u001b[0m \u001b[0;34m=\u001b[0m \u001b[0;36m0\u001b[0m\u001b[0;34m)\u001b[0m\u001b[0;34m\u001b[0m\u001b[0;34m\u001b[0m\u001b[0m\n\u001b[1;32m      9\u001b[0m \u001b[0mvideo_frames\u001b[0m \u001b[0;34m=\u001b[0m \u001b[0mnp\u001b[0m\u001b[0;34m.\u001b[0m\u001b[0mtranspose\u001b[0m\u001b[0;34m(\u001b[0m\u001b[0mvideo_frames\u001b[0m\u001b[0;34m,\u001b[0m \u001b[0;34m(\u001b[0m\u001b[0;36m0\u001b[0m\u001b[0;34m,\u001b[0m \u001b[0;36m1\u001b[0m\u001b[0;34m,\u001b[0m \u001b[0;36m4\u001b[0m\u001b[0;34m,\u001b[0m \u001b[0;36m2\u001b[0m\u001b[0;34m,\u001b[0m \u001b[0;36m3\u001b[0m\u001b[0;34m)\u001b[0m\u001b[0;34m)\u001b[0m\u001b[0;34m\u001b[0m\u001b[0;34m\u001b[0m\u001b[0m\n",
            "\u001b[0;31merror\u001b[0m: OpenCV(4.1.2) /io/opencv/modules/imgproc/src/resize.cpp:3363: error: (-215:Assertion failed) !dsize.empty() in function 'resize'\n"
          ]
        }
      ]
    },
    {
      "cell_type": "code",
      "metadata": {
        "colab": {
          "base_uri": "https://localhost:8080/",
          "height": 323
        },
        "id": "-Xe88BqP30oV",
        "outputId": "a7d265fa-6415-43ed-ec58-608030c6a744"
      },
      "source": [
        "layer_errors = test_model.predict(video_frames, batch_size=1)"
      ],
      "execution_count": 34,
      "outputs": [
        {
          "output_type": "error",
          "ename": "ValueError",
          "evalue": "ignored",
          "traceback": [
            "\u001b[0;31m---------------------------------------------------------------------------\u001b[0m",
            "\u001b[0;31mValueError\u001b[0m                                Traceback (most recent call last)",
            "\u001b[0;32m<ipython-input-34-4d5ed5f1e8c5>\u001b[0m in \u001b[0;36m<module>\u001b[0;34m()\u001b[0m\n\u001b[0;32m----> 1\u001b[0;31m \u001b[0mlayer_errors\u001b[0m \u001b[0;34m=\u001b[0m \u001b[0mtest_model\u001b[0m\u001b[0;34m.\u001b[0m\u001b[0mpredict\u001b[0m\u001b[0;34m(\u001b[0m\u001b[0mvideo_frames\u001b[0m\u001b[0;34m,\u001b[0m \u001b[0mbatch_size\u001b[0m\u001b[0;34m=\u001b[0m\u001b[0;36m1\u001b[0m\u001b[0;34m)\u001b[0m\u001b[0;34m\u001b[0m\u001b[0;34m\u001b[0m\u001b[0m\n\u001b[0m",
            "\u001b[0;32m/tensorflow-1.15.2/python3.7/keras/engine/training.py\u001b[0m in \u001b[0;36mpredict\u001b[0;34m(self, x, batch_size, verbose, steps, callbacks, max_queue_size, workers, use_multiprocessing)\u001b[0m\n\u001b[1;32m   1460\u001b[0m                                             \u001b[0mverbose\u001b[0m\u001b[0;34m=\u001b[0m\u001b[0mverbose\u001b[0m\u001b[0;34m,\u001b[0m\u001b[0;34m\u001b[0m\u001b[0;34m\u001b[0m\u001b[0m\n\u001b[1;32m   1461\u001b[0m                                             \u001b[0msteps\u001b[0m\u001b[0;34m=\u001b[0m\u001b[0msteps\u001b[0m\u001b[0;34m,\u001b[0m\u001b[0;34m\u001b[0m\u001b[0;34m\u001b[0m\u001b[0m\n\u001b[0;32m-> 1462\u001b[0;31m                                             callbacks=callbacks)\n\u001b[0m\u001b[1;32m   1463\u001b[0m \u001b[0;34m\u001b[0m\u001b[0m\n\u001b[1;32m   1464\u001b[0m     def train_on_batch(self, x, y,\n",
            "\u001b[0;32m/tensorflow-1.15.2/python3.7/keras/engine/training_arrays.py\u001b[0m in \u001b[0;36mpredict_loop\u001b[0;34m(model, f, ins, batch_size, verbose, steps, callbacks)\u001b[0m\n\u001b[1;32m    248\u001b[0m                                     \u001b[0mbatch_size\u001b[0m\u001b[0;34m=\u001b[0m\u001b[0mbatch_size\u001b[0m\u001b[0;34m,\u001b[0m\u001b[0;34m\u001b[0m\u001b[0;34m\u001b[0m\u001b[0m\n\u001b[1;32m    249\u001b[0m                                     \u001b[0msteps\u001b[0m\u001b[0;34m=\u001b[0m\u001b[0msteps\u001b[0m\u001b[0;34m,\u001b[0m\u001b[0;34m\u001b[0m\u001b[0;34m\u001b[0m\u001b[0m\n\u001b[0;32m--> 250\u001b[0;31m                                     steps_name='steps')\n\u001b[0m\u001b[1;32m    251\u001b[0m \u001b[0;34m\u001b[0m\u001b[0m\n\u001b[1;32m    252\u001b[0m     \u001b[0;31m# Check if callbacks have not been already configured\u001b[0m\u001b[0;34m\u001b[0m\u001b[0;34m\u001b[0m\u001b[0;34m\u001b[0m\u001b[0m\n",
            "\u001b[0;32m/tensorflow-1.15.2/python3.7/keras/engine/training_utils.py\u001b[0m in \u001b[0;36mcheck_num_samples\u001b[0;34m(ins, batch_size, steps, steps_name)\u001b[0m\n\u001b[1;32m    569\u001b[0m             raise ValueError(\n\u001b[1;32m    570\u001b[0m                 \u001b[0;34m'If your data is in the form of symbolic tensors, '\u001b[0m\u001b[0;34m\u001b[0m\u001b[0;34m\u001b[0m\u001b[0m\n\u001b[0;32m--> 571\u001b[0;31m                 \u001b[0;34m'you should specify the `'\u001b[0m \u001b[0;34m+\u001b[0m \u001b[0msteps_name\u001b[0m \u001b[0;34m+\u001b[0m \u001b[0;34m'` argument '\u001b[0m\u001b[0;34m\u001b[0m\u001b[0;34m\u001b[0m\u001b[0m\n\u001b[0m\u001b[1;32m    572\u001b[0m                 \u001b[0;34m'(instead of the `batch_size` argument, '\u001b[0m\u001b[0;34m\u001b[0m\u001b[0;34m\u001b[0m\u001b[0m\n\u001b[1;32m    573\u001b[0m                 \u001b[0;34m'because symbolic tensors are expected to produce '\u001b[0m\u001b[0;34m\u001b[0m\u001b[0;34m\u001b[0m\u001b[0m\n",
            "\u001b[0;31mValueError\u001b[0m: If your data is in the form of symbolic tensors, you should specify the `steps` argument (instead of the `batch_size` argument, because symbolic tensors are expected to produce batches of input data)."
          ]
        }
      ]
    },
    {
      "cell_type": "code",
      "metadata": {
        "colab": {
          "base_uri": "https://localhost:8080/"
        },
        "id": "_18RINht3O0t",
        "outputId": "1f451634-64d9-4081-8e4c-d952cd8e7a20"
      },
      "source": [
        "layer_errors.shape\n"
      ],
      "execution_count": 40,
      "outputs": [
        {
          "output_type": "execute_result",
          "data": {
            "text/plain": [
              "(1, 16, 4)"
            ]
          },
          "metadata": {
            "tags": []
          },
          "execution_count": 40
        }
      ]
    },
    {
      "cell_type": "code",
      "metadata": {
        "colab": {
          "base_uri": "https://localhost:8080/"
        },
        "id": "5HFJTpu-4w_u",
        "outputId": "52d851f3-343f-4688-a2a4-b356257e9883"
      },
      "source": [
        "layer_errors[0]"
      ],
      "execution_count": 56,
      "outputs": [
        {
          "output_type": "execute_result",
          "data": {
            "text/plain": [
              "array([[0.18273176, 0.04453773, 0.03832496, 0.01487955],\n",
              "       [0.03596336, 0.03006915, 0.03490854, 0.02561901],\n",
              "       [0.0353268 , 0.02812615, 0.03014576, 0.02364295],\n",
              "       [0.03327681, 0.02769086, 0.02900193, 0.02112938],\n",
              "       [0.03540421, 0.02841974, 0.02832971, 0.02122713],\n",
              "       [0.03820645, 0.02774859, 0.02962496, 0.02311298],\n",
              "       [0.04542673, 0.02917672, 0.03243032, 0.02751301],\n",
              "       [0.05402784, 0.03109798, 0.03522575, 0.03250879],\n",
              "       [0.05613659, 0.03251697, 0.03065341, 0.02810185],\n",
              "       [0.05602853, 0.03102637, 0.03264998, 0.02835025],\n",
              "       [0.0441821 , 0.03063592, 0.03025474, 0.02462369],\n",
              "       [0.04349147, 0.02971124, 0.03365203, 0.02541041],\n",
              "       [0.05160765, 0.03078336, 0.0348851 , 0.02923952],\n",
              "       [0.04447443, 0.02999979, 0.03161296, 0.02622123],\n",
              "       [0.04105837, 0.03081635, 0.03400602, 0.02428697],\n",
              "       [0.03829812, 0.03174067, 0.03661424, 0.02509231]], dtype=float32)"
            ]
          },
          "metadata": {
            "tags": []
          },
          "execution_count": 56
        }
      ]
    },
    {
      "cell_type": "code",
      "metadata": {
        "id": "uLttXzTy4FWc"
      },
      "source": [
        "layer_errors = layer_errors.squeeze(axis=0)\n",
        "avg_activations = np.sum(layer_errors, axis=0)/float(num_frames)\n",
        "# act_tf[i] = avg_activations"
      ],
      "execution_count": 57,
      "outputs": []
    },
    {
      "cell_type": "code",
      "metadata": {
        "colab": {
          "base_uri": "https://localhost:8080/"
        },
        "id": "t2f9NS2g4Utl",
        "outputId": "bd996076-4ff7-4285-fb41-b81330efff5a"
      },
      "source": [
        "avg_activations"
      ],
      "execution_count": 59,
      "outputs": [
        {
          "output_type": "execute_result",
          "data": {
            "text/plain": [
              "array([0.05222758, 0.0308811 , 0.03264502, 0.02505994], dtype=float32)"
            ]
          },
          "metadata": {
            "tags": []
          },
          "execution_count": 59
        }
      ]
    },
    {
      "cell_type": "code",
      "metadata": {
        "id": "nhKO4PIJ5n2A"
      },
      "source": [
        ""
      ],
      "execution_count": null,
      "outputs": []
    },
    {
      "cell_type": "code",
      "metadata": {
        "id": "mGgFybtQDEOX"
      },
      "source": [
        "def get_activations_and_save(model, videos, save_dir, batch_size=1):\n",
        "    \"\"\" ---IGNORE-----\n",
        "    This function extracts the activations (features) of a specific layer of\n",
        "    a model to a set of videos and save them in a specified directory. Every\n",
        "    file is a list with a vector containing the activations of that layer to\n",
        "    a particular video. The activations are averaged over the frames of every\n",
        "    video. \n",
        "\n",
        "    Parameters\n",
        "    ----------\n",
        "    model :\n",
        "        pytorch model.\n",
        "    video_list : list\n",
        "        list containing path to all videos.\n",
        "    save_dir : str\n",
        "        save path for extracted activations.\n",
        "    layer : int\n",
        "        integer specifying layer number.\n",
        "    nparray(1100,4) 500 crahes\n",
        "    - perform all the computations here #pca here # averaging \n",
        "    - # averaging --> reduce the size of required numpy array \n",
        "    \n",
        "    For this loop --> after extracting actications what do we do?\n",
        "    \"\"\"\n",
        "    activations = np.zeros((len(videos), 4))\n",
        "    #act_tf = tf.convert_to_tensor(activations)\n",
        "    for i, video in enumerate(videos):\n",
        "        print(f\"Processing video #{i}\")\n",
        "\n",
        "        video_frames, num_frames = sample_video_from_mp4(video)\n",
        "\n",
        "        # preprocess video frames\n",
        "        video_frames = video_frames / 255.0\n",
        "        #replace tf with cv,np\n",
        "        video_frames = tf.image.resize(video_frames, (128, 160))\n",
        "        video_frames = tf.expand_dims(video_frames, axis = 0)\n",
        "        video_frames = tf.transpose(video_frames, (0, 1, 4, 2, 3))\n",
        "        video_frames = video_frames.eval(session=tf.compat.v1.Session())\n",
        "\n",
        "        # pass video frames through the model\n",
        "        layer_errors = model.predict(video_frames, batch_size)\n",
        "        del video_frames\n",
        "        # average layer activations/errors across frames\n",
        "        layer_errors = layer_errors.squeeze(axis=0)\n",
        "        avg_activations = np.sum(layer_errors, axis=0)/float(num_frames)\n",
        "        activations[i] = avg_activations\n",
        "        del avg_activations\n",
        "        #act_tf[i] = avg_activations\n",
        "        # 4 valued array, single dimension \n",
        "        #shape : num videos * 4\n",
        "        \n",
        "    return activations\n"
      ],
      "execution_count": 35,
      "outputs": []
    },
    {
      "cell_type": "markdown",
      "metadata": {
        "id": "OyfVTIQowztB"
      },
      "source": [
        "# Extra"
      ]
    },
    {
      "cell_type": "code",
      "metadata": {
        "id": "o-k_7XoAwcXi"
      },
      "source": [
        "activations_dir = \"/content/activations_prednet\"\n"
      ],
      "execution_count": 32,
      "outputs": []
    },
    {
      "cell_type": "code",
      "metadata": {
        "id": "zQPNIy3a58rd"
      },
      "source": [
        ""
      ],
      "execution_count": null,
      "outputs": []
    },
    {
      "cell_type": "code",
      "metadata": {
        "colab": {
          "base_uri": "https://localhost:8080/"
        },
        "id": "vcKF9fWF58zW",
        "outputId": "fb3aea2f-c417-48a0-805b-cb9c4baac391"
      },
      "source": [
        "ls"
      ],
      "execution_count": 62,
      "outputs": [
        {
          "output_type": "stream",
          "text": [
            "\u001b[0m\u001b[01;34mactivations_prednet\u001b[0m/              \u001b[01;34mmodel_data_keras2\u001b[0m/        \u001b[01;34msample_data\u001b[0m/\n",
            "\u001b[01;34mAlgonautsVideos268_All_30fpsmax\u001b[0m/  \u001b[01;34mparticipants_data_v2021\u001b[0m/\n",
            "class_names_ImageNet.txt          participants_data.zip\n"
          ],
          "name": "stdout"
        }
      ]
    },
    {
      "cell_type": "code",
      "metadata": {
        "id": "YBa2ODTewhaD"
      },
      "source": [
        "import os \n"
      ],
      "execution_count": 28,
      "outputs": []
    },
    {
      "cell_type": "code",
      "metadata": {
        "id": "7lQGPTVKztzP"
      },
      "source": [
        ""
      ],
      "execution_count": 62,
      "outputs": []
    },
    {
      "cell_type": "code",
      "metadata": {
        "id": "qC8HKtjqwjB1"
      },
      "source": [
        "len(os.listdir(activations_dir))"
      ],
      "execution_count": null,
      "outputs": []
    },
    {
      "cell_type": "code",
      "metadata": {
        "colab": {
          "base_uri": "https://localhost:8080/"
        },
        "id": "-E0MsJBIx_Rh",
        "outputId": "01786b7b-3342-4cf1-b1f4-6d0fa0ac10eb"
      },
      "source": [
        "len(video_list)"
      ],
      "execution_count": 35,
      "outputs": [
        {
          "output_type": "execute_result",
          "data": {
            "text/plain": [
              "1102"
            ]
          },
          "metadata": {
            "tags": []
          },
          "execution_count": 35
        }
      ]
    },
    {
      "cell_type": "markdown",
      "metadata": {
        "id": "1vVclD15w3gZ"
      },
      "source": [
        "# Contd"
      ]
    },
    {
      "cell_type": "code",
      "metadata": {
        "colab": {
          "base_uri": "https://localhost:8080/"
        },
        "id": "6i6DQ77M_jYo",
        "outputId": "01812aa0-428a-45f7-896d-e25b604da471"
      },
      "source": [
        "len(video_list)"
      ],
      "execution_count": 36,
      "outputs": [
        {
          "output_type": "execute_result",
          "data": {
            "text/plain": [
              "1102"
            ]
          },
          "metadata": {
            "tags": []
          },
          "execution_count": 36
        }
      ]
    },
    {
      "cell_type": "code",
      "metadata": {
        "id": "O7Qn3osf_lEL"
      },
      "source": [
        "video_list = video_list[0:20]"
      ],
      "execution_count": 37,
      "outputs": []
    },
    {
      "cell_type": "code",
      "metadata": {
        "colab": {
          "base_uri": "https://localhost:8080/"
        },
        "id": "6wFsbq-g_pzf",
        "outputId": "ee6a3cfb-26be-4447-bfd8-cc571a300cf3"
      },
      "source": [
        "len(video_list)"
      ],
      "execution_count": 51,
      "outputs": [
        {
          "output_type": "execute_result",
          "data": {
            "text/plain": [
              "20"
            ]
          },
          "metadata": {
            "tags": []
          },
          "execution_count": 51
        }
      ]
    },
    {
      "cell_type": "code",
      "metadata": {
        "id": "baNFbPRam4ek",
        "colab": {
          "base_uri": "https://localhost:8080/"
        },
        "outputId": "963ba4e1-2f86-4a6d-b311-29d7b25af08e"
      },
      "source": [
        "# create saving directory for activations\n",
        "activations_dir = \"/content/activations_prednet_test\"\n",
        "if not os.path.exists(activations_dir):\n",
        "  os.makedirs(activations_dir)\n",
        "\n",
        "activations = get_activations_and_save(test_model, video_list, activations_dir)\n",
        "\n",
        "#get activations 1102*4"
      ],
      "execution_count": 39,
      "outputs": [
        {
          "output_type": "stream",
          "text": [
            "Processing video #0\n",
            "Processing video #1\n",
            "Processing video #2\n",
            "Processing video #3\n",
            "Processing video #4\n",
            "Processing video #5\n",
            "Processing video #6\n",
            "Processing video #7\n",
            "Processing video #8\n",
            "Processing video #9\n",
            "Processing video #10\n",
            "Processing video #11\n",
            "Processing video #12\n",
            "Processing video #13\n",
            "Processing video #14\n",
            "Processing video #15\n",
            "Processing video #16\n",
            "Processing video #17\n",
            "Processing video #18\n",
            "Processing video #19\n"
          ],
          "name": "stdout"
        }
      ]
    },
    {
      "cell_type": "code",
      "metadata": {
        "id": "CqIlr_EN6Fw-"
      },
      "source": [
        "# activations np array --> linear regression directly --> "
      ],
      "execution_count": null,
      "outputs": []
    },
    {
      "cell_type": "code",
      "metadata": {
        "colab": {
          "base_uri": "https://localhost:8080/"
        },
        "id": "wmnoKkpa_3EV",
        "outputId": "23d092ae-43c4-49f9-9bbe-5b3fb5edfbd3"
      },
      "source": [
        "activations"
      ],
      "execution_count": 40,
      "outputs": [
        {
          "output_type": "execute_result",
          "data": {
            "text/plain": [
              "array([[0.04656222, 0.02843931, 0.02900872, 0.02011135],\n",
              "       [0.05222758, 0.0308811 , 0.03264502, 0.02505994],\n",
              "       [0.02460087, 0.02255601, 0.02020676, 0.01327849],\n",
              "       [0.05272121, 0.02993439, 0.03023641, 0.02394617],\n",
              "       [0.05854285, 0.03138214, 0.03596036, 0.02868075],\n",
              "       [0.02890898, 0.02878191, 0.02650614, 0.01797419],\n",
              "       [0.03912688, 0.0309162 , 0.03153494, 0.02377036],\n",
              "       [0.02125715, 0.02249834, 0.01747232, 0.01427237],\n",
              "       [0.02885841, 0.02138134, 0.0212229 , 0.01685181],\n",
              "       [0.03994235, 0.03061569, 0.03084563, 0.02184075],\n",
              "       [0.03173997, 0.02888   , 0.0281224 , 0.01764039],\n",
              "       [0.04498976, 0.02949046, 0.03087679, 0.01906163],\n",
              "       [0.03406916, 0.02485669, 0.0263645 , 0.02143869],\n",
              "       [0.03986578, 0.02885304, 0.03103199, 0.02313154],\n",
              "       [0.03696527, 0.02605534, 0.02575685, 0.01894011],\n",
              "       [0.03897932, 0.02575295, 0.02714255, 0.02026535],\n",
              "       [0.03589629, 0.02751032, 0.025687  , 0.01673773],\n",
              "       [0.05832988, 0.03242037, 0.03742404, 0.03164171],\n",
              "       [0.03432915, 0.02656821, 0.02564769, 0.02011506],\n",
              "       [0.03264977, 0.02450755, 0.02842223, 0.01938319]])"
            ]
          },
          "metadata": {
            "tags": []
          },
          "execution_count": 40
        }
      ]
    },
    {
      "cell_type": "markdown",
      "metadata": {
        "id": "scnuhATSDJX9"
      },
      "source": [
        "## Perform PCA on activations"
      ]
    },
    {
      "cell_type": "code",
      "metadata": {
        "id": "6KJibw6_DKz-"
      },
      "source": [
        "def do_PCA_and_save(activations_dir, save_dir): \n",
        "    \"\"\"This function preprocesses a neural network's features using PCA and\n",
        "    save the results in a specified directory.\n",
        "\n",
        "    Parameters\n",
        "    ----------\n",
        "    activations_dir : str\n",
        "        save path for extracted activations.\n",
        "    save_dir : str\n",
        "        save path for extracted PCA features.\n",
        "    \"\"\"\n",
        "\n",
        "    # number of PCA components\n",
        "    n_components = 100     \n",
        "        \n",
        "    # get path of activations of a layer to all videos\n",
        "    activations_file_list = glob.glob(activations_dir + '/*.npy')\n",
        "    # sort activations in ascending order\n",
        "    activations_file_list.sort()\n",
        "    # load one activation to later get dimension\n",
        "    feature_dim = np.load(activations_file_list[0], allow_pickle=True)[0][0].shape[0]\n",
        "        \n",
        "    # initialise data matrix for PCA - #videos x layer dimension\n",
        "    x = np.zeros((len(activations_file_list), feature_dim))\n",
        "        \n",
        "    # fill matrix with activations of every video (for a given layer)\n",
        "    for i, video_activations in enumerate(activations_file_list):\n",
        "        temp = np.load(video_activations, allow_pickle=True)[0][0].detach().numpy()\n",
        "        x[i,:] = temp\n",
        "        \n",
        "    # train-test split\n",
        "    x_train = x[:1000,:]\n",
        "    x_test = x[1000:,:]\n",
        "\n",
        "    print(\"Scaling data\")\n",
        "    # scale training and test sets\n",
        "    x_train = StandardScaler().fit_transform(x_train)\n",
        "    x_test = StandardScaler().fit_transform(x_test)\n",
        "\n",
        "    print(\"Fitting PCA\")\n",
        "    # find principal components of training set\n",
        "    pca = PCA(n_components = n_components, random_state = seed)\n",
        "    pca.fit(x_train)\n",
        "\n",
        "    print(\"Projecting data onto components\")\n",
        "    # project data onto components - #videos x #components \n",
        "    x_train = pca.transform(x_train)\n",
        "    x_test = pca.transform(x_test)\n",
        "\n",
        "    print(\"Saving\")\n",
        "    # create saving directory\n",
        "    train_save_path = os.path.join(save_dir, \"train_layer_19\")  ############ SPECIFY LAYER NUMBER #######\n",
        "    test_save_path = os.path.join(save_dir, \"test_layer_19\")\n",
        "\n",
        "    # save results\n",
        "    np.save(train_save_path, x_train)\n",
        "    np.save(test_save_path, x_test)\n",
        "        "
      ],
      "execution_count": null,
      "outputs": []
    },
    {
      "cell_type": "code",
      "metadata": {
        "id": "KTG4hqsGDORl",
        "colab": {
          "base_uri": "https://localhost:8080/"
        },
        "outputId": "5edad82d-6652-42b8-8602-6b958400e9d3"
      },
      "source": [
        "# create saving directory for pca features\n",
        "pca_dir = '/content/pca_activations'\n",
        "if not os.path.exists(pca_dir):\n",
        "  os.makedirs(pca_dir)\n",
        "\n",
        "# call function to get dimensionality-reduced activations\n",
        "do_PCA_and_save(activations_dir, pca_dir)"
      ],
      "execution_count": null,
      "outputs": [
        {
          "output_type": "stream",
          "text": [
            "Scaling data\n",
            "Fitting PCA\n",
            "Projecting data onto components\n",
            "Saving\n"
          ],
          "name": "stdout"
        }
      ]
    },
    {
      "cell_type": "markdown",
      "metadata": {
        "id": "jJeWCZ3ODQD7"
      },
      "source": [
        "# **Regression on fMRI data**"
      ]
    },
    {
      "cell_type": "code",
      "metadata": {
        "id": "z2WkeShVDSW0"
      },
      "source": [
        "#@title Helper functions for data loading\n",
        "\n",
        "\n",
        "# loading function for pickle ROI file\n",
        "def load_dict(filename_):\n",
        "    # read file in bytes\n",
        "    with open(filename_, 'rb') as f:\n",
        "        # create pickle object\n",
        "        u = pickle._Unpickler(f)\n",
        "        # # change encoding appropriate for numpy array\n",
        "        u.encoding = 'latin1'\n",
        "        # load it\n",
        "        ret_di = u.load()\n",
        "        \n",
        "    return ret_di\n",
        "\n",
        "\n",
        "def get_fmri(fmri_dir, sub, ROI):\n",
        "    \"\"\"This function loads fMRI data into a numpy array for a given\n",
        "    participant and ROI.\n",
        "    \n",
        "    Parameters\n",
        "    ----------\n",
        "    fmri_dir : str\n",
        "        path to fMRI data.\n",
        "    sub : str\n",
        "        participant number path\n",
        "    ROI : str\n",
        "        name of ROI.\n",
        "\n",
        "    Returns\n",
        "    ---------\n",
        "    np.array\n",
        "        matrix of dimensions #train_vids x #repetitions x #voxels\n",
        "        containing fMRI responses to train videos of a given ROI.\n",
        "    \"\"\"\n",
        "\n",
        "    # Load ROI data\n",
        "    ROI_file = os.path.join(fmri_dir, sub, ROI + \".pkl\")\n",
        "    ROI_data = load_dict(ROI_file)\n",
        "\n",
        "    # averaging ROI data across repetitions\n",
        "    ROI_data_train = np.mean(ROI_data[\"train\"], axis = 1)\n",
        "\n",
        "    return ROI_data_train\n",
        "\n",
        "\n",
        "def get_activations(activations_dir, layer_name):\n",
        "    \"\"\"This function loads neural network features/activations (preprocessed\n",
        "    using PCA) into a numpy array according to a given layer.\n",
        "    \n",
        "    Parameters\n",
        "    ----------\n",
        "    activations_dir : str\n",
        "        path to PCA/processed neural network features\n",
        "    layer_name : str\n",
        "        which layer of the neural network to load\n",
        "    \n",
        "    Returns\n",
        "    ---------\n",
        "    train_activations : np.array\n",
        "        matrix of dimensions #train_vids x #pca_components\n",
        "        containing activations of train videos\n",
        "    \"\"\"\n",
        "\n",
        "    # load training and test file of a given layer\n",
        "    train_file = os.path.join(activations_dir,\"train_\" + layer_name + \".npy\")\n",
        "    #test_file = os.path.join(activations_dir,\"test_\" + layer_name + \".npy\")\n",
        "    train_activations = np.load(train_file)\n",
        "    #test_activations = np.load(test_file)\n",
        "\n",
        "    # scale training and test activations\n",
        "    scaler = StandardScaler()\n",
        "    train_activations = scaler.fit_transform(train_activations)\n",
        "    #test_activations = scaler.fit_transform(test_activations)\n",
        "\n",
        "    return train_activations"
      ],
      "execution_count": 41,
      "outputs": []
    },
    {
      "cell_type": "code",
      "metadata": {
        "colab": {
          "base_uri": "https://localhost:8080/"
        },
        "id": "AAlkjEyFD-gf",
        "outputId": "4f8577d2-d424-473c-f4ee-f1fb588f43db"
      },
      "source": [
        "len(os.listdir(activations_dir))"
      ],
      "execution_count": 53,
      "outputs": [
        {
          "output_type": "execute_result",
          "data": {
            "text/plain": [
              "0"
            ]
          },
          "metadata": {
            "tags": []
          },
          "execution_count": 53
        }
      ]
    },
    {
      "cell_type": "code",
      "metadata": {
        "id": "UMQ4JZPHDWpg"
      },
      "source": [
        "#@title Correlation function for model validation\n",
        "\n",
        "def vectorized_correlation(x,y):\n",
        "    dim = 0\n",
        "\n",
        "    centered_x = x - x.mean(axis=dim, keepdims=True)\n",
        "    centered_y = y - y.mean(axis=dim, keepdims=True)\n",
        "\n",
        "    covariance = (centered_x * centered_y).sum(axis=dim, keepdims=True)\n",
        "\n",
        "    bessel_corrected_covariance = covariance / (x.shape[dim] - 1)\n",
        "\n",
        "    x_std = x.std(axis=dim, keepdims=True)+1e-8\n",
        "    y_std = y.std(axis=dim, keepdims=True)+1e-8\n",
        "\n",
        "    corr = bessel_corrected_covariance / (x_std * y_std)\n",
        "\n",
        "    return corr.ravel()"
      ],
      "execution_count": 42,
      "outputs": []
    },
    {
      "cell_type": "code",
      "metadata": {
        "id": "7qYsbDKnAk5j"
      },
      "source": [
        "'''def perform_encoding(pca_dir, fmri_dir, results_dir, layer, sub, ROI,\n",
        "                     batch_size=1000):\n",
        "  \"\"\"This function linearly regresses pca-reduced features/activations of a\n",
        "  given layer of a neural network to the fMRI activity of a given brain region\n",
        "  (ROI) in a given subject. The fitted model is used to predict part of the\n",
        "  training set (validation mode). The model predictions are saved in a specified\n",
        "  directory. \n",
        "  \n",
        "  # Arguments\n",
        "  -------------\n",
        "  pca_dir : str\n",
        "      path to PCA features.\n",
        "  fmri_dir : str\n",
        "      path to fMRI data.\n",
        "  results_dir : str\n",
        "      saving directory for results.\n",
        "  layer : str\n",
        "      layer name from which to extract activations.\n",
        "  sub : str\n",
        "      participant number path.\n",
        "  ROI : str\n",
        "      region of interest (brain region) from which to extract fMRI data.\n",
        "  batch_size : int\n",
        "      Number of voxels processed when fitting the linear regressor. 1000 by\n",
        "      default.\n",
        "\n",
        "  \"\"\"\n",
        "\n",
        "  # load train activations\n",
        "  train_activations = get_activations(pca_dir, layer)\n",
        "  \n",
        "  # load fMRI data for a given subject and ROI\n",
        "  fmri_train_all = get_fmri(fmri_dir, sub, ROI)\n",
        "  # get number of voxels for given ROI\n",
        "  num_voxels = fmri_train_all.shape[1]\n",
        "\n",
        "  # create training and validation sets\n",
        "  val_activations = train_activations[900:,:]       ################ adjust splits according to #videos ###############\n",
        "  train_activations = train_activations[:900,:]    \n",
        "  fmri_train = fmri_train_all[:900,:]\n",
        "  fmri_val = fmri_train_all[900:,:]      \n",
        "\n",
        "  # initialise results - #validation videos x #voxels\n",
        "  pred_fmri = np.zeros_like(fmri_val)\n",
        "  pred_fmri_save_path = os.path.join(results_dir)  ##### removed subject and ROI #####\n",
        "\n",
        "  # perform multiple multivariate regression\n",
        "  reg = MultiOutputRegressor(LinearRegression()).fit(train_activations, fmri_train)\n",
        "  pred_fmri = reg.predict(val_activations)\n",
        "  \n",
        "  # correlation between validation predictions and ground truth\n",
        "  corr = vectorized_correlation(fmri_val, pred_fmri)\n",
        "  print(\"----------------------------------------------------------------------------\")\n",
        "  # get mean correlation\n",
        "  voxelwise_corr = round(corr.mean(), 6)\n",
        "  print(\"Mean correlation for ROI : \",ROI,\" in \",sub,\" using \",layer,\" is :\", voxelwise_corr)\n",
        "  \n",
        "  # save results\n",
        "  np.save(pred_fmri_save_path, pred_fmri)\n",
        "\n",
        "  return voxelwise_corr'''\n"
      ],
      "execution_count": null,
      "outputs": []
    },
    {
      "cell_type": "markdown",
      "metadata": {
        "id": "tubaR1MHAfml"
      },
      "source": [
        ""
      ]
    },
    {
      "cell_type": "code",
      "metadata": {
        "id": "42Gdl4cwDcS-"
      },
      "source": [
        "def perform_encoding(activations, fmri_dir, results_dir, sub, ROI, batch_size=2):\n",
        "\n",
        "  \"\"\"This function linearly regresses pca-reduced features/activations of a\n",
        "  given layer of a neural network to the fMRI activity of a given brain region\n",
        "  (ROI) in a given subject. The fitted model is used to predict part of the\n",
        "  training set (validation mode). The model predictions are saved in a specified\n",
        "  directory. \n",
        "  \n",
        "  # Arguments\n",
        "  -------------\n",
        "  pca_dir : str\n",
        "      path to PCA features.\n",
        "  fmri_dir : str\n",
        "      path to fMRI data.\n",
        "  results_dir : str\n",
        "      saving directory for results.\n",
        "  layer : str\n",
        "      layer name from which to extract activations.\n",
        "  sub : str\n",
        "      participant number path.\n",
        "  ROI : str\n",
        "      region of interest (brain region) from which to extract fMRI data.\n",
        "  batch_size : int\n",
        "      Number of voxels processed when fitting the linear regressor. 1000 by\n",
        "      default.\n",
        "\n",
        "  \"\"\"\n",
        "\n",
        "  # load train activations\n",
        "  #train_activations = get_activations(pca_dir, layer)\n",
        "  train_activations = activations\n",
        "\n",
        "  # load fMRI data for a given subject and ROI\n",
        "  \n",
        "  fmri_train_all = get_fmri(fmri_dir, sub, ROI)\n",
        "  fmri_train_all = fmri_train_all[0:20]\n",
        "  # get number of voxels for given ROI\n",
        "  num_voxels = fmri_train_all.shape[1]\n",
        "\n",
        "  # create training and validation sets\n",
        "  train_int = 17\n",
        "  val_activations = train_activations[train_int:,:]       ################ adjust splits according to #videos ###############\n",
        "  train_activations = train_activations[:train_int,:]    \n",
        "  fmri_train = fmri_train_all[:train_int,:]\n",
        "  fmri_val = fmri_train_all[train_int:,:]   \n",
        "\n",
        "  # initialise results - #validation videos x #voxels\n",
        "  pred_fmri = np.zeros_like(fmri_val)\n",
        "  pred_fmri_save_path = os.path.join(results_dir)  ##### removed subject and ROI #####\n",
        "\n",
        "  # perform multiple multivariate regression\n",
        "  reg = MultiOutputRegressor(LinearRegression()).fit(train_activations, fmri_train)\n",
        "  pred_fmri = reg.predict(val_activations)\n",
        "  \n",
        "  # correlation between validation predictions and ground truth\n",
        "  #issue with fmri_val and pred_fmri\n",
        "  print(fmri_val.shape)\n",
        "  print(pred_fmri.shape)\n",
        "  corr = vectorized_correlation(fmri_val, pred_fmri)\n",
        "  print(\"----------------------------------------------------------------------------\")\n",
        "  # get mean correlation\n",
        "  voxelwise_corr = round(corr.mean(), 6)\n",
        "  print(\"Mean correlation for ROI : \",ROI,\" in \",sub,\" using  is :\", voxelwise_corr)\n",
        "  \n",
        "  # save results\n",
        "  np.save(pred_fmri_save_path, pred_fmri)\n",
        "\n",
        "  return voxelwise_corr\n"
      ],
      "execution_count": 63,
      "outputs": []
    },
    {
      "cell_type": "code",
      "metadata": {
        "colab": {
          "base_uri": "https://localhost:8080/"
        },
        "id": "CwJZ9aDpERmt",
        "outputId": "6bcb75e2-260c-45da-8821-f23541e7b29b"
      },
      "source": [
        ""
      ],
      "execution_count": 56,
      "outputs": [
        {
          "output_type": "stream",
          "text": [
            "['sub04', 'sub02', 'sub06', 'sub08', 'sub10', 'sub07', 'sub05', 'sub01', 'sub03', 'sub09']\n"
          ],
          "name": "stdout"
        }
      ]
    },
    {
      "cell_type": "code",
      "metadata": {
        "id": "yKdXhjfnAH1Y"
      },
      "source": [
        "# def perform_encoding(activations, fmri_dir, results_dir, sub, ROI, batch_size=1000):"
      ],
      "execution_count": null,
      "outputs": []
    },
    {
      "cell_type": "code",
      "metadata": {
        "id": "XZzgBLKzDeyH"
      },
      "source": [
        "# specify create fmri directory\n",
        "fmri_dir = '/content/participants_data_v2021/mini_track' \n",
        "\n",
        "# create saving directory for results\n",
        "prediction_dir = '/content/model_predictions'\n",
        "if not os.path.exists(prediction_dir):\n",
        "  os.makedirs(prediction_dir)"
      ],
      "execution_count": 44,
      "outputs": []
    },
    {
      "cell_type": "code",
      "metadata": {
        "id": "0o5dvac9DgXL"
      },
      "source": [
        "# list of subjects, ROIs, model and layers\n",
        "subs = [\"sub01\",\"sub02\",\"sub03\",\"sub04\",\"sub05\",\"sub06\",\"sub07\",\"sub08\",\"sub09\",\"sub10\"]  \n",
        "ROIs = [\"V1\",\"V2\",\"V3\",\"V4\",\"LOC\",\"EBA\",\"FFA\",\"STS\",\"PPA\"]"
      ],
      "execution_count": 45,
      "outputs": []
    },
    {
      "cell_type": "code",
      "metadata": {
        "id": "CSFgV72nDiGH"
      },
      "source": [
        "##############################\n",
        "#### CHANGE LAYER NUMBER #####\n",
        "# layer = 'layer_19'\n",
        "##############################"
      ],
      "execution_count": 46,
      "outputs": []
    },
    {
      "cell_type": "code",
      "metadata": {
        "id": "o3q93Zi7CAYW"
      },
      "source": [
        "# def perform_encoding(activations, fmri_dir, results_dir, sub, ROI, batch_size=1000):"
      ],
      "execution_count": null,
      "outputs": []
    },
    {
      "cell_type": "code",
      "metadata": {
        "id": "LlGHxbcxDjnx",
        "colab": {
          "base_uri": "https://localhost:8080/"
        },
        "outputId": "177c870a-2209-4e9c-b181-4a21bbefd878"
      },
      "source": [
        "# loop across subjects and layers\n",
        "voxelwise_corrs = np.zeros((len(subs), len(ROIs)))\n",
        "\n",
        "for i, sub in enumerate(subs):\n",
        "  for j, ROI in enumerate(ROIs):\n",
        "    # make prediction\n",
        "    print(\"Starting ROI: \", ROI, \"sub: \", sub)\n",
        "    voxelwise_corrs[i, j] = perform_encoding(activations, fmri_dir, prediction_dir, sub = sub, ROI = ROI)\n",
        "    print (\"Completed ROI: \", ROI, \"sub: \", sub)\n",
        "    print(\"----------------------------------------------------------------------------\")\n",
        "\n",
        "# create saving directory\n",
        "all_prediction_dir = os.path.join(prediction_dir, 'mean_correlation_all_subs_all_ROIs_with_')\n",
        "np.save(all_prediction_dir, voxelwise_corrs)"
      ],
      "execution_count": 65,
      "outputs": [
        {
          "output_type": "stream",
          "text": [
            "Starting ROI:  V1 sub:  sub01\n",
            "(3, 232)\n",
            "(3, 232)\n",
            "----------------------------------------------------------------------------\n",
            "Mean correlation for ROI :  V1  in  sub01  using  is : -0.47494\n",
            "Completed ROI:  V1 sub:  sub01\n",
            "----------------------------------------------------------------------------\n",
            "Starting ROI:  V2 sub:  sub01\n",
            "(3, 231)\n",
            "(3, 231)\n",
            "----------------------------------------------------------------------------\n",
            "Mean correlation for ROI :  V2  in  sub01  using  is : -0.449836\n",
            "Completed ROI:  V2 sub:  sub01\n",
            "----------------------------------------------------------------------------\n",
            "Starting ROI:  V3 sub:  sub01\n",
            "(3, 261)\n",
            "(3, 261)\n",
            "----------------------------------------------------------------------------\n",
            "Mean correlation for ROI :  V3  in  sub01  using  is : -0.472619\n",
            "Completed ROI:  V3 sub:  sub01\n",
            "----------------------------------------------------------------------------\n",
            "Starting ROI:  V4 sub:  sub01\n",
            "(3, 107)\n",
            "(3, 107)\n",
            "----------------------------------------------------------------------------\n",
            "Mean correlation for ROI :  V4  in  sub01  using  is : -0.54841\n",
            "Completed ROI:  V4 sub:  sub01\n",
            "----------------------------------------------------------------------------\n",
            "Starting ROI:  LOC sub:  sub01\n",
            "(3, 1843)\n",
            "(3, 1843)\n",
            "----------------------------------------------------------------------------\n",
            "Mean correlation for ROI :  LOC  in  sub01  using  is : -0.240127\n",
            "Completed ROI:  LOC sub:  sub01\n",
            "----------------------------------------------------------------------------\n",
            "Starting ROI:  EBA sub:  sub01\n",
            "(3, 351)\n",
            "(3, 351)\n",
            "----------------------------------------------------------------------------\n",
            "Mean correlation for ROI :  EBA  in  sub01  using  is : -0.239434\n",
            "Completed ROI:  EBA sub:  sub01\n",
            "----------------------------------------------------------------------------\n",
            "Starting ROI:  FFA sub:  sub01\n",
            "(3, 68)\n",
            "(3, 68)\n",
            "----------------------------------------------------------------------------\n",
            "Mean correlation for ROI :  FFA  in  sub01  using  is : -0.259684\n",
            "Completed ROI:  FFA sub:  sub01\n",
            "----------------------------------------------------------------------------\n",
            "Starting ROI:  STS sub:  sub01\n",
            "(3, 341)\n",
            "(3, 341)\n",
            "----------------------------------------------------------------------------\n",
            "Mean correlation for ROI :  STS  in  sub01  using  is : -0.31544\n",
            "Completed ROI:  STS sub:  sub01\n",
            "----------------------------------------------------------------------------\n",
            "Starting ROI:  PPA sub:  sub01\n",
            "(3, 425)\n",
            "(3, 425)\n",
            "----------------------------------------------------------------------------\n",
            "Mean correlation for ROI :  PPA  in  sub01  using  is : 0.025053\n",
            "Completed ROI:  PPA sub:  sub01\n",
            "----------------------------------------------------------------------------\n",
            "Starting ROI:  V1 sub:  sub02\n",
            "(3, 285)\n",
            "(3, 285)\n",
            "----------------------------------------------------------------------------\n",
            "Mean correlation for ROI :  V1  in  sub02  using  is : 0.11517\n",
            "Completed ROI:  V1 sub:  sub02\n",
            "----------------------------------------------------------------------------\n",
            "Starting ROI:  V2 sub:  sub02\n",
            "(3, 231)\n",
            "(3, 231)\n",
            "----------------------------------------------------------------------------\n",
            "Mean correlation for ROI :  V2  in  sub02  using  is : 0.019019\n",
            "Completed ROI:  V2 sub:  sub02\n",
            "----------------------------------------------------------------------------\n",
            "Starting ROI:  V3 sub:  sub02\n",
            "(3, 270)\n",
            "(3, 270)\n",
            "----------------------------------------------------------------------------\n",
            "Mean correlation for ROI :  V3  in  sub02  using  is : -0.09363\n",
            "Completed ROI:  V3 sub:  sub02\n",
            "----------------------------------------------------------------------------\n",
            "Starting ROI:  V4 sub:  sub02\n",
            "(3, 95)\n",
            "(3, 95)\n",
            "----------------------------------------------------------------------------\n",
            "Mean correlation for ROI :  V4  in  sub02  using  is : -0.34441\n",
            "Completed ROI:  V4 sub:  sub02\n",
            "----------------------------------------------------------------------------\n",
            "Starting ROI:  LOC sub:  sub02\n",
            "(3, 1348)\n",
            "(3, 1348)\n",
            "----------------------------------------------------------------------------\n",
            "Mean correlation for ROI :  LOC  in  sub02  using  is : -0.042427\n",
            "Completed ROI:  LOC sub:  sub02\n",
            "----------------------------------------------------------------------------\n",
            "Starting ROI:  EBA sub:  sub02\n",
            "(3, 183)\n",
            "(3, 183)\n",
            "----------------------------------------------------------------------------\n",
            "Mean correlation for ROI :  EBA  in  sub02  using  is : 0.194482\n",
            "Completed ROI:  EBA sub:  sub02\n",
            "----------------------------------------------------------------------------\n",
            "Starting ROI:  FFA sub:  sub02\n",
            "(3, 157)\n",
            "(3, 157)\n",
            "----------------------------------------------------------------------------\n",
            "Mean correlation for ROI :  FFA  in  sub02  using  is : -0.065449\n",
            "Completed ROI:  FFA sub:  sub02\n",
            "----------------------------------------------------------------------------\n",
            "Starting ROI:  STS sub:  sub02\n",
            "(3, 421)\n",
            "(3, 421)\n",
            "----------------------------------------------------------------------------\n",
            "Mean correlation for ROI :  STS  in  sub02  using  is : -0.322745\n",
            "Completed ROI:  STS sub:  sub02\n",
            "----------------------------------------------------------------------------\n",
            "Starting ROI:  PPA sub:  sub02\n",
            "(3, 153)\n",
            "(3, 153)\n",
            "----------------------------------------------------------------------------\n",
            "Mean correlation for ROI :  PPA  in  sub02  using  is : 0.196552\n",
            "Completed ROI:  PPA sub:  sub02\n",
            "----------------------------------------------------------------------------\n",
            "Starting ROI:  V1 sub:  sub03\n",
            "(3, 164)\n",
            "(3, 164)\n",
            "----------------------------------------------------------------------------\n",
            "Mean correlation for ROI :  V1  in  sub03  using  is : -0.158608\n",
            "Completed ROI:  V1 sub:  sub03\n",
            "----------------------------------------------------------------------------\n",
            "Starting ROI:  V2 sub:  sub03\n",
            "(3, 271)\n",
            "(3, 271)\n",
            "----------------------------------------------------------------------------\n",
            "Mean correlation for ROI :  V2  in  sub03  using  is : -0.114643\n",
            "Completed ROI:  V2 sub:  sub03\n",
            "----------------------------------------------------------------------------\n",
            "Starting ROI:  V3 sub:  sub03\n",
            "(3, 270)\n",
            "(3, 270)\n",
            "----------------------------------------------------------------------------\n",
            "Mean correlation for ROI :  V3  in  sub03  using  is : -0.186967\n",
            "Completed ROI:  V3 sub:  sub03\n",
            "----------------------------------------------------------------------------\n",
            "Starting ROI:  V4 sub:  sub03\n",
            "(3, 111)\n",
            "(3, 111)\n",
            "----------------------------------------------------------------------------\n",
            "Mean correlation for ROI :  V4  in  sub03  using  is : 0.106046\n",
            "Completed ROI:  V4 sub:  sub03\n",
            "----------------------------------------------------------------------------\n",
            "Starting ROI:  LOC sub:  sub03\n",
            "(3, 1237)\n",
            "(3, 1237)\n",
            "----------------------------------------------------------------------------\n",
            "Mean correlation for ROI :  LOC  in  sub03  using  is : -0.190042\n",
            "Completed ROI:  LOC sub:  sub03\n",
            "----------------------------------------------------------------------------\n",
            "Starting ROI:  EBA sub:  sub03\n",
            "(3, 376)\n",
            "(3, 376)\n",
            "----------------------------------------------------------------------------\n",
            "Mean correlation for ROI :  EBA  in  sub03  using  is : -0.227304\n",
            "Completed ROI:  EBA sub:  sub03\n",
            "----------------------------------------------------------------------------\n",
            "Starting ROI:  FFA sub:  sub03\n",
            "(3, 80)\n",
            "(3, 80)\n",
            "----------------------------------------------------------------------------\n",
            "Mean correlation for ROI :  FFA  in  sub03  using  is : -0.569707\n",
            "Completed ROI:  FFA sub:  sub03\n",
            "----------------------------------------------------------------------------\n",
            "Starting ROI:  STS sub:  sub03\n",
            "(3, 278)\n",
            "(3, 278)\n",
            "----------------------------------------------------------------------------\n",
            "Mean correlation for ROI :  STS  in  sub03  using  is : -0.139765\n",
            "Completed ROI:  STS sub:  sub03\n",
            "----------------------------------------------------------------------------\n",
            "Starting ROI:  PPA sub:  sub03\n",
            "(3, 368)\n",
            "(3, 368)\n",
            "----------------------------------------------------------------------------\n",
            "Mean correlation for ROI :  PPA  in  sub03  using  is : 0.045603\n",
            "Completed ROI:  PPA sub:  sub03\n",
            "----------------------------------------------------------------------------\n",
            "Starting ROI:  V1 sub:  sub04\n",
            "(3, 176)\n",
            "(3, 176)\n",
            "----------------------------------------------------------------------------\n",
            "Mean correlation for ROI :  V1  in  sub04  using  is : -0.094643\n",
            "Completed ROI:  V1 sub:  sub04\n",
            "----------------------------------------------------------------------------\n",
            "Starting ROI:  V2 sub:  sub04\n",
            "(3, 209)\n",
            "(3, 209)\n",
            "----------------------------------------------------------------------------\n",
            "Mean correlation for ROI :  V2  in  sub04  using  is : 0.080295\n",
            "Completed ROI:  V2 sub:  sub04\n",
            "----------------------------------------------------------------------------\n",
            "Starting ROI:  V3 sub:  sub04\n",
            "(3, 212)\n",
            "(3, 212)\n",
            "----------------------------------------------------------------------------\n",
            "Mean correlation for ROI :  V3  in  sub04  using  is : 0.019289\n",
            "Completed ROI:  V3 sub:  sub04\n",
            "----------------------------------------------------------------------------\n",
            "Starting ROI:  V4 sub:  sub04\n",
            "(3, 117)\n",
            "(3, 117)\n",
            "----------------------------------------------------------------------------\n",
            "Mean correlation for ROI :  V4  in  sub04  using  is : -0.047334\n",
            "Completed ROI:  V4 sub:  sub04\n",
            "----------------------------------------------------------------------------\n",
            "Starting ROI:  LOC sub:  sub04\n",
            "(3, 1153)\n",
            "(3, 1153)\n",
            "----------------------------------------------------------------------------\n",
            "Mean correlation for ROI :  LOC  in  sub04  using  is : 0.074737\n",
            "Completed ROI:  LOC sub:  sub04\n",
            "----------------------------------------------------------------------------\n",
            "Starting ROI:  EBA sub:  sub04\n",
            "(3, 368)\n",
            "(3, 368)\n",
            "----------------------------------------------------------------------------\n",
            "Mean correlation for ROI :  EBA  in  sub04  using  is : 0.454699\n",
            "Completed ROI:  EBA sub:  sub04\n",
            "----------------------------------------------------------------------------\n",
            "Starting ROI:  FFA sub:  sub04\n",
            "(3, 210)\n",
            "(3, 210)\n",
            "----------------------------------------------------------------------------\n",
            "Mean correlation for ROI :  FFA  in  sub04  using  is : -0.187674\n",
            "Completed ROI:  FFA sub:  sub04\n",
            "----------------------------------------------------------------------------\n",
            "Starting ROI:  STS sub:  sub04\n",
            "(3, 398)\n",
            "(3, 398)\n",
            "----------------------------------------------------------------------------\n",
            "Mean correlation for ROI :  STS  in  sub04  using  is : 0.095541\n",
            "Completed ROI:  STS sub:  sub04\n",
            "----------------------------------------------------------------------------\n",
            "Starting ROI:  PPA sub:  sub04\n",
            "(3, 225)\n",
            "(3, 225)\n",
            "----------------------------------------------------------------------------\n",
            "Mean correlation for ROI :  PPA  in  sub04  using  is : 0.156115\n",
            "Completed ROI:  PPA sub:  sub04\n",
            "----------------------------------------------------------------------------\n",
            "Starting ROI:  V1 sub:  sub05\n",
            "(3, 326)\n",
            "(3, 326)\n",
            "----------------------------------------------------------------------------\n",
            "Mean correlation for ROI :  V1  in  sub05  using  is : -0.036443\n",
            "Completed ROI:  V1 sub:  sub05\n",
            "----------------------------------------------------------------------------\n",
            "Starting ROI:  V2 sub:  sub05\n",
            "(3, 196)\n",
            "(3, 196)\n",
            "----------------------------------------------------------------------------\n",
            "Mean correlation for ROI :  V2  in  sub05  using  is : -0.213753\n",
            "Completed ROI:  V2 sub:  sub05\n",
            "----------------------------------------------------------------------------\n",
            "Starting ROI:  V3 sub:  sub05\n",
            "(3, 176)\n",
            "(3, 176)\n",
            "----------------------------------------------------------------------------\n",
            "Mean correlation for ROI :  V3  in  sub05  using  is : -0.042123\n",
            "Completed ROI:  V3 sub:  sub05\n",
            "----------------------------------------------------------------------------\n",
            "Starting ROI:  V4 sub:  sub05\n",
            "(3, 73)\n",
            "(3, 73)\n",
            "----------------------------------------------------------------------------\n",
            "Mean correlation for ROI :  V4  in  sub05  using  is : 0.093112\n",
            "Completed ROI:  V4 sub:  sub05\n",
            "----------------------------------------------------------------------------\n",
            "Starting ROI:  LOC sub:  sub05\n",
            "(3, 1397)\n",
            "(3, 1397)\n",
            "----------------------------------------------------------------------------\n",
            "Mean correlation for ROI :  LOC  in  sub05  using  is : -0.122895\n",
            "Completed ROI:  LOC sub:  sub05\n",
            "----------------------------------------------------------------------------\n",
            "Starting ROI:  EBA sub:  sub05\n",
            "(3, 309)\n",
            "(3, 309)\n",
            "----------------------------------------------------------------------------\n",
            "Mean correlation for ROI :  EBA  in  sub05  using  is : 0.24497\n",
            "Completed ROI:  EBA sub:  sub05\n",
            "----------------------------------------------------------------------------\n",
            "Starting ROI:  FFA sub:  sub05\n",
            "(3, 69)\n",
            "(3, 69)\n",
            "----------------------------------------------------------------------------\n",
            "Mean correlation for ROI :  FFA  in  sub05  using  is : -0.113658\n",
            "Completed ROI:  FFA sub:  sub05\n",
            "----------------------------------------------------------------------------\n",
            "Starting ROI:  STS sub:  sub05\n",
            "(3, 219)\n",
            "(3, 219)\n",
            "----------------------------------------------------------------------------\n",
            "Mean correlation for ROI :  STS  in  sub05  using  is : -0.107512\n",
            "Completed ROI:  STS sub:  sub05\n",
            "----------------------------------------------------------------------------\n",
            "Starting ROI:  PPA sub:  sub05\n",
            "(3, 210)\n",
            "(3, 210)\n",
            "----------------------------------------------------------------------------\n",
            "Mean correlation for ROI :  PPA  in  sub05  using  is : 0.103837\n",
            "Completed ROI:  PPA sub:  sub05\n",
            "----------------------------------------------------------------------------\n",
            "Starting ROI:  V1 sub:  sub06\n",
            "(3, 286)\n",
            "(3, 286)\n",
            "----------------------------------------------------------------------------\n",
            "Mean correlation for ROI :  V1  in  sub06  using  is : 0.230049\n",
            "Completed ROI:  V1 sub:  sub06\n",
            "----------------------------------------------------------------------------\n",
            "Starting ROI:  V2 sub:  sub06\n",
            "(3, 281)\n",
            "(3, 281)\n",
            "----------------------------------------------------------------------------\n",
            "Mean correlation for ROI :  V2  in  sub06  using  is : 0.327227\n",
            "Completed ROI:  V2 sub:  sub06\n",
            "----------------------------------------------------------------------------\n",
            "Starting ROI:  V3 sub:  sub06\n",
            "(3, 229)\n",
            "(3, 229)\n",
            "----------------------------------------------------------------------------\n",
            "Mean correlation for ROI :  V3  in  sub06  using  is : 0.210764\n",
            "Completed ROI:  V3 sub:  sub06\n",
            "----------------------------------------------------------------------------\n",
            "Starting ROI:  V4 sub:  sub06\n",
            "(3, 108)\n",
            "(3, 108)\n",
            "----------------------------------------------------------------------------\n",
            "Mean correlation for ROI :  V4  in  sub06  using  is : -0.018816\n",
            "Completed ROI:  V4 sub:  sub06\n",
            "----------------------------------------------------------------------------\n",
            "Starting ROI:  LOC sub:  sub06\n",
            "(3, 1356)\n",
            "(3, 1356)\n",
            "----------------------------------------------------------------------------\n",
            "Mean correlation for ROI :  LOC  in  sub06  using  is : 0.154102\n",
            "Completed ROI:  LOC sub:  sub06\n",
            "----------------------------------------------------------------------------\n",
            "Starting ROI:  EBA sub:  sub06\n",
            "(3, 308)\n",
            "(3, 308)\n",
            "----------------------------------------------------------------------------\n",
            "Mean correlation for ROI :  EBA  in  sub06  using  is : 0.155273\n",
            "Completed ROI:  EBA sub:  sub06\n",
            "----------------------------------------------------------------------------\n",
            "Starting ROI:  FFA sub:  sub06\n",
            "(3, 119)\n",
            "(3, 119)\n",
            "----------------------------------------------------------------------------\n",
            "Mean correlation for ROI :  FFA  in  sub06  using  is : -0.037164\n",
            "Completed ROI:  FFA sub:  sub06\n",
            "----------------------------------------------------------------------------\n",
            "Starting ROI:  STS sub:  sub06\n",
            "(3, 173)\n",
            "(3, 173)\n",
            "----------------------------------------------------------------------------\n",
            "Mean correlation for ROI :  STS  in  sub06  using  is : 0.050172\n",
            "Completed ROI:  STS sub:  sub06\n",
            "----------------------------------------------------------------------------\n",
            "Starting ROI:  PPA sub:  sub06\n",
            "(3, 216)\n",
            "(3, 216)\n",
            "----------------------------------------------------------------------------\n",
            "Mean correlation for ROI :  PPA  in  sub06  using  is : -0.159821\n",
            "Completed ROI:  PPA sub:  sub06\n",
            "----------------------------------------------------------------------------\n",
            "Starting ROI:  V1 sub:  sub07\n",
            "(3, 195)\n",
            "(3, 195)\n",
            "----------------------------------------------------------------------------\n",
            "Mean correlation for ROI :  V1  in  sub07  using  is : 0.013873\n",
            "Completed ROI:  V1 sub:  sub07\n",
            "----------------------------------------------------------------------------\n",
            "Starting ROI:  V2 sub:  sub07\n",
            "(3, 189)\n",
            "(3, 189)\n",
            "----------------------------------------------------------------------------\n",
            "Mean correlation for ROI :  V2  in  sub07  using  is : 0.046201\n",
            "Completed ROI:  V2 sub:  sub07\n",
            "----------------------------------------------------------------------------\n",
            "Starting ROI:  V3 sub:  sub07\n",
            "(3, 174)\n",
            "(3, 174)\n",
            "----------------------------------------------------------------------------\n",
            "Mean correlation for ROI :  V3  in  sub07  using  is : 0.117626\n",
            "Completed ROI:  V3 sub:  sub07\n",
            "----------------------------------------------------------------------------\n",
            "Starting ROI:  V4 sub:  sub07\n",
            "(3, 55)\n",
            "(3, 55)\n",
            "----------------------------------------------------------------------------\n",
            "Mean correlation for ROI :  V4  in  sub07  using  is : 0.147408\n",
            "Completed ROI:  V4 sub:  sub07\n",
            "----------------------------------------------------------------------------\n",
            "Starting ROI:  LOC sub:  sub07\n",
            "(3, 1117)\n",
            "(3, 1117)\n",
            "----------------------------------------------------------------------------\n",
            "Mean correlation for ROI :  LOC  in  sub07  using  is : 0.029001\n",
            "Completed ROI:  LOC sub:  sub07\n",
            "----------------------------------------------------------------------------\n",
            "Starting ROI:  EBA sub:  sub07\n",
            "(3, 101)\n",
            "(3, 101)\n",
            "----------------------------------------------------------------------------\n",
            "Mean correlation for ROI :  EBA  in  sub07  using  is : 0.649362\n",
            "Completed ROI:  EBA sub:  sub07\n",
            "----------------------------------------------------------------------------\n",
            "Starting ROI:  FFA sub:  sub07\n",
            "(3, 89)\n",
            "(3, 89)\n",
            "----------------------------------------------------------------------------\n",
            "Mean correlation for ROI :  FFA  in  sub07  using  is : 0.09631\n",
            "Completed ROI:  FFA sub:  sub07\n",
            "----------------------------------------------------------------------------\n",
            "Starting ROI:  STS sub:  sub07\n",
            "(3, 80)\n",
            "(3, 80)\n",
            "----------------------------------------------------------------------------\n",
            "Mean correlation for ROI :  STS  in  sub07  using  is : 0.21726\n",
            "Completed ROI:  STS sub:  sub07\n",
            "----------------------------------------------------------------------------\n",
            "Starting ROI:  PPA sub:  sub07\n",
            "(3, 33)\n",
            "(3, 33)\n",
            "----------------------------------------------------------------------------\n",
            "Mean correlation for ROI :  PPA  in  sub07  using  is : -0.130777\n",
            "Completed ROI:  PPA sub:  sub07\n",
            "----------------------------------------------------------------------------\n",
            "Starting ROI:  V1 sub:  sub08\n",
            "(3, 300)\n",
            "(3, 300)\n",
            "----------------------------------------------------------------------------\n",
            "Mean correlation for ROI :  V1  in  sub08  using  is : 0.038219\n",
            "Completed ROI:  V1 sub:  sub08\n",
            "----------------------------------------------------------------------------\n",
            "Starting ROI:  V2 sub:  sub08\n",
            "(3, 238)\n",
            "(3, 238)\n",
            "----------------------------------------------------------------------------\n",
            "Mean correlation for ROI :  V2  in  sub08  using  is : 0.029926\n",
            "Completed ROI:  V2 sub:  sub08\n",
            "----------------------------------------------------------------------------\n",
            "Starting ROI:  V3 sub:  sub08\n",
            "(3, 223)\n",
            "(3, 223)\n",
            "----------------------------------------------------------------------------\n",
            "Mean correlation for ROI :  V3  in  sub08  using  is : -0.124714\n",
            "Completed ROI:  V3 sub:  sub08\n",
            "----------------------------------------------------------------------------\n",
            "Starting ROI:  V4 sub:  sub08\n",
            "(3, 85)\n",
            "(3, 85)\n",
            "----------------------------------------------------------------------------\n",
            "Mean correlation for ROI :  V4  in  sub08  using  is : -0.028163\n",
            "Completed ROI:  V4 sub:  sub08\n",
            "----------------------------------------------------------------------------\n",
            "Starting ROI:  LOC sub:  sub08\n",
            "(3, 1244)\n",
            "(3, 1244)\n",
            "----------------------------------------------------------------------------\n",
            "Mean correlation for ROI :  LOC  in  sub08  using  is : 0.134851\n",
            "Completed ROI:  LOC sub:  sub08\n",
            "----------------------------------------------------------------------------\n",
            "Starting ROI:  EBA sub:  sub08\n",
            "(3, 55)\n",
            "(3, 55)\n",
            "----------------------------------------------------------------------------\n",
            "Mean correlation for ROI :  EBA  in  sub08  using  is : 0.167311\n",
            "Completed ROI:  EBA sub:  sub08\n",
            "----------------------------------------------------------------------------\n",
            "Starting ROI:  FFA sub:  sub08\n",
            "(3, 163)\n",
            "(3, 163)\n",
            "----------------------------------------------------------------------------\n",
            "Mean correlation for ROI :  FFA  in  sub08  using  is : -0.230808\n",
            "Completed ROI:  FFA sub:  sub08\n",
            "----------------------------------------------------------------------------\n",
            "Starting ROI:  STS sub:  sub08\n",
            "(3, 306)\n",
            "(3, 306)\n",
            "----------------------------------------------------------------------------\n",
            "Mean correlation for ROI :  STS  in  sub08  using  is : -0.073654\n",
            "Completed ROI:  STS sub:  sub08\n",
            "----------------------------------------------------------------------------\n",
            "Starting ROI:  PPA sub:  sub08\n",
            "(3, 150)\n",
            "(3, 150)\n",
            "----------------------------------------------------------------------------\n",
            "Mean correlation for ROI :  PPA  in  sub08  using  is : 0.129949\n",
            "Completed ROI:  PPA sub:  sub08\n",
            "----------------------------------------------------------------------------\n",
            "Starting ROI:  V1 sub:  sub09\n",
            "(3, 271)\n",
            "(3, 271)\n",
            "----------------------------------------------------------------------------\n",
            "Mean correlation for ROI :  V1  in  sub09  using  is : 0.147089\n",
            "Completed ROI:  V1 sub:  sub09\n",
            "----------------------------------------------------------------------------\n",
            "Starting ROI:  V2 sub:  sub09\n",
            "(3, 265)\n",
            "(3, 265)\n",
            "----------------------------------------------------------------------------\n",
            "Mean correlation for ROI :  V2  in  sub09  using  is : -0.219862\n",
            "Completed ROI:  V2 sub:  sub09\n",
            "----------------------------------------------------------------------------\n",
            "Starting ROI:  V3 sub:  sub09\n",
            "(3, 245)\n",
            "(3, 245)\n",
            "----------------------------------------------------------------------------\n",
            "Mean correlation for ROI :  V3  in  sub09  using  is : -0.114874\n",
            "Completed ROI:  V3 sub:  sub09\n",
            "----------------------------------------------------------------------------\n",
            "Starting ROI:  V4 sub:  sub09\n",
            "(3, 94)\n",
            "(3, 94)\n",
            "----------------------------------------------------------------------------\n",
            "Mean correlation for ROI :  V4  in  sub09  using  is : 0.167585\n",
            "Completed ROI:  V4 sub:  sub09\n",
            "----------------------------------------------------------------------------\n",
            "Starting ROI:  LOC sub:  sub09\n",
            "(3, 1515)\n",
            "(3, 1515)\n",
            "----------------------------------------------------------------------------\n",
            "Mean correlation for ROI :  LOC  in  sub09  using  is : -0.041802\n",
            "Completed ROI:  LOC sub:  sub09\n",
            "----------------------------------------------------------------------------\n",
            "Starting ROI:  EBA sub:  sub09\n",
            "(3, 191)\n",
            "(3, 191)\n",
            "----------------------------------------------------------------------------\n",
            "Mean correlation for ROI :  EBA  in  sub09  using  is : 0.16599\n",
            "Completed ROI:  EBA sub:  sub09\n",
            "----------------------------------------------------------------------------\n",
            "Starting ROI:  FFA sub:  sub09\n",
            "(3, 76)\n",
            "(3, 76)\n",
            "----------------------------------------------------------------------------\n",
            "Mean correlation for ROI :  FFA  in  sub09  using  is : -0.424398\n",
            "Completed ROI:  FFA sub:  sub09\n",
            "----------------------------------------------------------------------------\n",
            "Starting ROI:  STS sub:  sub09\n",
            "(3, 346)\n",
            "(3, 346)\n",
            "----------------------------------------------------------------------------\n",
            "Mean correlation for ROI :  STS  in  sub09  using  is : -0.087319\n",
            "Completed ROI:  STS sub:  sub09\n",
            "----------------------------------------------------------------------------\n",
            "Starting ROI:  PPA sub:  sub09\n",
            "(3, 262)\n",
            "(3, 262)\n",
            "----------------------------------------------------------------------------\n",
            "Mean correlation for ROI :  PPA  in  sub09  using  is : 0.059378\n",
            "Completed ROI:  PPA sub:  sub09\n",
            "----------------------------------------------------------------------------\n",
            "Starting ROI:  V1 sub:  sub10\n",
            "(3, 238)\n",
            "(3, 238)\n",
            "----------------------------------------------------------------------------\n",
            "Mean correlation for ROI :  V1  in  sub10  using  is : 0.129178\n",
            "Completed ROI:  V1 sub:  sub10\n",
            "----------------------------------------------------------------------------\n",
            "Starting ROI:  V2 sub:  sub10\n",
            "(3, 249)\n",
            "(3, 249)\n",
            "----------------------------------------------------------------------------\n",
            "Mean correlation for ROI :  V2  in  sub10  using  is : 0.02198\n",
            "Completed ROI:  V2 sub:  sub10\n",
            "----------------------------------------------------------------------------\n",
            "Starting ROI:  V3 sub:  sub10\n",
            "(3, 188)\n",
            "(3, 188)\n",
            "----------------------------------------------------------------------------\n",
            "Mean correlation for ROI :  V3  in  sub10  using  is : 0.308091\n",
            "Completed ROI:  V3 sub:  sub10\n",
            "----------------------------------------------------------------------------\n",
            "Starting ROI:  V4 sub:  sub10\n",
            "(3, 60)\n",
            "(3, 60)\n",
            "----------------------------------------------------------------------------\n",
            "Mean correlation for ROI :  V4  in  sub10  using  is : -0.089279\n",
            "Completed ROI:  V4 sub:  sub10\n",
            "----------------------------------------------------------------------------\n",
            "Starting ROI:  LOC sub:  sub10\n",
            "(3, 1034)\n",
            "(3, 1034)\n",
            "----------------------------------------------------------------------------\n",
            "Mean correlation for ROI :  LOC  in  sub10  using  is : 0.145229\n",
            "Completed ROI:  LOC sub:  sub10\n",
            "----------------------------------------------------------------------------\n",
            "Starting ROI:  EBA sub:  sub10\n",
            "(3, 162)\n",
            "(3, 162)\n",
            "----------------------------------------------------------------------------\n",
            "Mean correlation for ROI :  EBA  in  sub10  using  is : 0.348063\n",
            "Completed ROI:  EBA sub:  sub10\n",
            "----------------------------------------------------------------------------\n",
            "Starting ROI:  FFA sub:  sub10\n",
            "(3, 69)\n",
            "(3, 69)\n",
            "----------------------------------------------------------------------------\n",
            "Mean correlation for ROI :  FFA  in  sub10  using  is : -0.001334\n",
            "Completed ROI:  FFA sub:  sub10\n",
            "----------------------------------------------------------------------------\n",
            "Starting ROI:  STS sub:  sub10\n",
            "(3, 120)\n",
            "(3, 120)\n",
            "----------------------------------------------------------------------------\n",
            "Mean correlation for ROI :  STS  in  sub10  using  is : 0.461236\n",
            "Completed ROI:  STS sub:  sub10\n",
            "----------------------------------------------------------------------------\n",
            "Starting ROI:  PPA sub:  sub10\n",
            "(3, 165)\n",
            "(3, 165)\n",
            "----------------------------------------------------------------------------\n",
            "Mean correlation for ROI :  PPA  in  sub10  using  is : 0.110206\n",
            "Completed ROI:  PPA sub:  sub10\n",
            "----------------------------------------------------------------------------\n"
          ],
          "name": "stdout"
        }
      ]
    },
    {
      "cell_type": "code",
      "metadata": {
        "colab": {
          "base_uri": "https://localhost:8080/",
          "height": 282
        },
        "id": "x2zbcAegGjoQ",
        "outputId": "09e76e93-c06a-461a-9f37-36f83ae60848"
      },
      "source": [
        "#ours \n",
        "subjs_mean = np.mean(voxelwise_corrs, axis = 0)\n",
        "subjs_std = np.std(voxelwise_corrs, axis = 0)\n",
        "plt.plot(ROIs, subjs_mean)"
      ],
      "execution_count": 66,
      "outputs": [
        {
          "output_type": "execute_result",
          "data": {
            "text/plain": [
              "[<matplotlib.lines.Line2D at 0x7f8550989350>]"
            ]
          },
          "metadata": {
            "tags": []
          },
          "execution_count": 66
        },
        {
          "output_type": "display_data",
          "data": {
            "image/png": "[encoded data removed]",
            "text/plain": [
              "<Figure size 432x288 with 1 Axes>"
            ]
          },
          "metadata": {
            "tags": [],
            "needs_background": "light"
          }
        }
      ]
    },
    {
      "cell_type": "code",
      "metadata": {
        "id": "WyEWbmQyDlla",
        "colab": {
          "base_uri": "https://localhost:8080/",
          "height": 282
        },
        "outputId": "e16e0587-5dcf-488f-ed54-6fd2639e3e03"
      },
      "source": [
        "subjs_mean = np.mean(voxelwise_corrs, axis = 0)\n",
        "subjs_std = np.std(voxelwise_corrs, axis = 0)\n",
        "plt.plot(ROIs, subjs_mean)"
      ],
      "execution_count": null,
      "outputs": [
        {
          "output_type": "execute_result",
          "data": {
            "text/plain": [
              "[<matplotlib.lines.Line2D at 0x7fdb67a2a290>]"
            ]
          },
          "metadata": {
            "tags": []
          },
          "execution_count": 100
        },
        {
          "output_type": "display_data",
          "data": {
            "image/png": "[encoded data removed]",
            "text/plain": [
              "<Figure size 432x288 with 1 Axes>"
            ]
          },
          "metadata": {
            "tags": [],
            "needs_background": "light"
          }
        }
      ]
    },
    {
      "cell_type": "code",
      "metadata": {
        "colab": {
          "base_uri": "https://localhost:8080/",
          "height": 319
        },
        "id": "_64u_YmsGwmw",
        "outputId": "95854422-8256-4775-9c60-0d518d4a6b32"
      },
      "source": [
        "#ours \n",
        "plt.plot(ROIs, subjs_mean, linewidth=2)\n",
        "plt.title('FC #3', fontsize = 20)\n",
        "plt.xlabel('Region of interest', fontsize=18, labelpad=15)\n",
        "plt.ylabel('Correlation', fontsize=18, labelpad=15)\n",
        "plt.ylim([0, 0.25])\n",
        "plt.savefig('Prediction_with_VGG19_layer_19.pdf', bbox_inches='tight')"
      ],
      "execution_count": 67,
      "outputs": [
        {
          "output_type": "display_data",
          "data": {
            "image/png": "[encoded data removed]",
            "text/plain": [
              "<Figure size 432x288 with 1 Axes>"
            ]
          },
          "metadata": {
            "tags": [],
            "needs_background": "light"
          }
        }
      ]
    },
    {
      "cell_type": "code",
      "metadata": {
        "colab": {
          "base_uri": "https://localhost:8080/",
          "height": 319
        },
        "id": "HtuF2y6qWbC2",
        "outputId": "639f7282-d34a-4cdb-c06e-0ad529c0bab2"
      },
      "source": [
        "plt.plot(ROIs, subjs_mean, linewidth=2)\n",
        "plt.title('FC #3', fontsize = 20)\n",
        "plt.xlabel('Region of interest', fontsize=18, labelpad=15)\n",
        "plt.ylabel('Correlation', fontsize=18, labelpad=15)\n",
        "plt.ylim([0, 0.25])\n",
        "plt.savefig('Prediction_with_VGG19_layer_19.pdf', bbox_inches='tight')"
      ],
      "execution_count": null,
      "outputs": [
        {
          "output_type": "display_data",
          "data": {
            "image/png": "[encoded data removed]",
            "text/plain": [
              "<Figure size 432x288 with 1 Axes>"
            ]
          },
          "metadata": {
            "tags": [],
            "needs_background": "light"
          }
        }
      ]
    },
    {
      "cell_type": "code",
      "metadata": {
        "id": "Iac36Nq-Guyz"
      },
      "source": [
        "# huge tensor array , memory fixing of overusage"
      ],
      "execution_count": null,
      "outputs": []
    }
  ]
}